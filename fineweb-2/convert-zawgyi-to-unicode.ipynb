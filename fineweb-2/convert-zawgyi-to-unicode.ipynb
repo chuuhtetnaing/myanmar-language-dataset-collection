{
 "cells": [
  {
   "cell_type": "code",
   "execution_count": 1,
   "id": "4aaf7951",
   "metadata": {},
   "outputs": [],
   "source": [
    "from datasets import load_dataset"
   ]
  },
  {
   "cell_type": "markdown",
   "id": "14b27f66",
   "metadata": {},
   "source": [
    "# Load the Fineweb-2 Dataset (Myanmar subset including removed)"
   ]
  },
  {
   "cell_type": "code",
   "execution_count": 2,
   "id": "49601fca",
   "metadata": {},
   "outputs": [
    {
     "data": {
      "application/vnd.jupyter.widget-view+json": {
       "model_id": "50e2aac7f32c44edb96eaa1346bf13f1",
       "version_major": 2,
       "version_minor": 0
      },
      "text/plain": [
       "Loading dataset shards:   0%|          | 0/29 [00:00<?, ?it/s]"
      ]
     },
     "metadata": {},
     "output_type": "display_data"
    }
   ],
   "source": [
    "# get Croatian data\n",
    "ds_mya = load_dataset(\"HuggingFaceFW/fineweb-2\", name=\"mya_Mymr\")\n",
    "ds_mya_removed = load_dataset(\"HuggingFaceFW/fineweb-2\", name=\"mya_Mymr_removed\")"
   ]
  },
  {
   "cell_type": "code",
   "execution_count": 3,
   "id": "1d51aaff",
   "metadata": {},
   "outputs": [
    {
     "data": {
      "text/plain": [
       "{'text': 'ျပသဆဲႏွင့္ ႐ံုတင္မည့္ ႏုိင္ငံျခား႐ုပ္ရွင္မိတ္ဆက္\\nေထာက္လွမ္းေရးေအဂ်င္စီ S.H.I.E.L.D၏ ညႊန္ၾကားေရးမႉး နစ္ျဖဴရီသည္ ေဝးလံေခါင္သီေသာ အရပ္ရွိ သုေတသနစခန္းသို႔ ေရာက္ သြားရာ တက္ဆရက္အမည္ရွိ စြမ္းအင္အရင္းအျမစ္တစ္ခုေၾကာင့္ အာကာသစၾကဝဠာထဲမွ ဝင္ေပါက္ ႀကီးတစ္ခုပြင့္ၿပီး ျပည္ႏွင္ ဒဏ္ေပးခံ ထားရေသာ ေနာ့(စ္)နတ္ဘုရား လိုကီက ထိုဝင္ေပါက္မွ ဝင္လာကာ တက္ဆရက္ကို ရယူသြားသည္။ လိုကီသည္ ထြက္ေျပးသည့္အတြက္ ႐ူပေဗဒပညာရွင္ ေဒါက္တာဆဲလ္ဗစ္ တို႔အပါအဝင္ S.H.I.E.L.D အမႈ ထမ္းအေတာ္မ်ားမ်ား၏စိတ္ကို ထိန္းခ်ဳပ္ခိုင္းေစလ်က္ရွိသည္။ ၿမိဳ႕ေတာ္ထြန္းရည္\\nထို႔ေၾကာင့္ ျဖဴရီက လိုကီ့လက္ ထဲမွတက္ဆရက္ကို ျပန္ယူဖို႔ စတိဗ္ ေရာဂ်ား(စ္) ကို တာဝန္ေပးသည္။ လိုကီက ခ်ီေတာရီးေခၚ ၿဂဳိဟ္သား မ်ားႏွင့္ မဟာမိတ္ဖြဲ႕ၿပီး ၄င္းတို႔အား တက္ဆရက္ကိုေပးအပ္ကာ ကမၻာကို အုပ္စိုးရန္ အကူအညီေတာင္းသည္။ လိုကီႏွင့္ လူစြမ္းေကာင္းမ်ား တိုက္ပြဲ ျဖစ္ၿပီးေနာက္ လိုကီက အညံ့ခံသျဖင့္ S.H.I.E.L.D ေအဂ်င္စီပိုင္ေလ ယာဥ္ျဖင့္ သူ႔ကိုဖမ္းေခၚသြားၾက သည္။ လိုကီ၏ ေမြးစားညီငယ္ မိုးႀကဳိးနတ္ ဘုရားေသာ္(ရ္)က လိုကီကို အခ်ဳပ္မွ လႊတ္ေပးရန္ႀကဳိးစားသည္။ သံမဏိ လူသား၊ ကပၸတိန္အေမရိကတို႔ႏွင့္ ရင္ဆိုင္ေတြ႕ၿပီးေနာက္ ေသာ္(ရ္)က လိုကီအား Shield မိုးပ်ံေလယာဥ္ တင္သေဘၤာႀကီးေပၚ၌ အက်ဥ္းခ် ထားရန္ အေဖာ္လိုက္သြားသည္။ လိုကီအဖမ္းခံရာမွ လြတ္သြားမည္ လား။ အဖြဲ႕ဝင္ေတြကိုသတ္ပစ္မွာ လား။ လိုကီ၏ ဆႏၵအတိုင္း ကမၻာ ႀကီးကို လႊမ္းမိုးႏိုင္မွာလားဆိုသည္ကို အသည္းတယားယား၊ ရင္တမမ ၾကည့္ရမည့္ သိပၸံအက္ရွင္ စြန္႔စားခန္း ဇာတ္ကား ႀကီးျဖစ္သည္။',\n",
       " 'id': '<urn:uuid:551e70bd-9e30-444d-ac55-1f86132b4c19>',\n",
       " 'dump': 'CC-MAIN-2013-20',\n",
       " 'url': 'http://www.zaygwet.com/literature.php?id=564',\n",
       " 'date': '2013-05-22T13:23:24Z',\n",
       " 'file_path': 's3://commoncrawl/crawl-data/CC-MAIN-2013-20/segments/1368701760529/warc/CC-MAIN-20130516105600-00046-ip-10-60-113-184.ec2.internal.warc.gz',\n",
       " 'language': 'mya',\n",
       " 'language_score': 0.9263294339179993,\n",
       " 'language_script': 'Mymr',\n",
       " 'minhash_cluster_size': 1,\n",
       " 'top_langs': '{\"mya_Mymr_score\": 0.9263294339179993, \"blk_Mymr_score\": 0.07236842811107635}'}"
      ]
     },
     "execution_count": 3,
     "metadata": {},
     "output_type": "execute_result"
    }
   ],
   "source": [
    "ds_mya['train'][0]"
   ]
  },
  {
   "cell_type": "code",
   "execution_count": null,
   "id": "b5a64962",
   "metadata": {},
   "outputs": [],
   "source": []
  },
  {
   "cell_type": "code",
   "execution_count": 4,
   "id": "e841f315",
   "metadata": {},
   "outputs": [],
   "source": [
    "from myanmartools import ZawgyiDetector\n",
    "from icu import Transliterator"
   ]
  },
  {
   "cell_type": "markdown",
   "id": "5ffc276c",
   "metadata": {},
   "source": [
    "# Example Convertion from Zawgyi to Unicode"
   ]
  },
  {
   "cell_type": "code",
   "execution_count": 7,
   "id": "994365b3",
   "metadata": {},
   "outputs": [
    {
     "name": "stdout",
     "output_type": "stream",
     "text": [
      "Original Text: ျပသဆဲႏွင့္ ႐ံုတင္မည့္ ႏုိင္ငံျခား႐ုပ္ရွင္မိတ္ဆက္\n",
      "\n",
      "Score: 1.0\n",
      "\n",
      "Converted Text: ပြသဆဲနှင့် ရုံတင်မည့် နိုင်ငံခြားရုပ်ရှင်မိတ်ဆက်\n"
     ]
    }
   ],
   "source": [
    "detector = ZawgyiDetector()\n",
    "converter = Transliterator.createInstance('Zawgyi-my')\n",
    "\n",
    "original_text = ds_mya['train'][0]['text'].split(\"\\n\")[0]\n",
    "score = detector.get_zawgyi_probability(original_text)\n",
    "\n",
    "print(\"Original Text:\", original_text)\n",
    "\n",
    "if score > 0.5:\n",
    "    converted_text = converter.transliterate(original_text)\n",
    "    print()\n",
    "    print(\"Score:\", score)\n",
    "    print()\n",
    "    print(\"Converted Text:\", converted_text)"
   ]
  },
  {
   "cell_type": "code",
   "execution_count": null,
   "id": "64c98ad1",
   "metadata": {},
   "outputs": [],
   "source": []
  },
  {
   "cell_type": "markdown",
   "id": "bcca2968",
   "metadata": {},
   "source": [
    "# Convert the Whole Dataset from Zawgyi to Unicode"
   ]
  },
  {
   "cell_type": "code",
   "execution_count": 8,
   "id": "480768ef",
   "metadata": {},
   "outputs": [],
   "source": [
    "def zawgyi_to_unicode_converter(examples):\n",
    "    detector = ZawgyiDetector()\n",
    "    converter = Transliterator.createInstance('Zawgyi-my')\n",
    "\n",
    "    articles = examples['text']\n",
    "    converted_articles = []\n",
    "\n",
    "    for article in articles:\n",
    "        \n",
    "        converted_chunks = []\n",
    "        for text_chunk in article.split(\"\\n\"):\n",
    "            score = detector.get_zawgyi_probability(text_chunk)\n",
    "            if score > 0.5:\n",
    "                text_chunk = converter.transliterate(text_chunk)\n",
    "\n",
    "            converted_chunks.append(text_chunk)\n",
    "        \n",
    "        converted_articles.append(\"\\n\".join(converted_chunks))\n",
    "\n",
    "    examples['text'] = converted_articles\n",
    "    return examples"
   ]
  },
  {
   "cell_type": "code",
   "execution_count": 9,
   "id": "138e4a55",
   "metadata": {},
   "outputs": [
    {
     "data": {
      "application/vnd.jupyter.widget-view+json": {
       "model_id": "e559a5d635c547799ce33a746e8fdbb3",
       "version_major": 2,
       "version_minor": 0
      },
      "text/plain": [
       "Map (num_proc=10):   0%|          | 0/1619895 [00:00<?, ? examples/s]"
      ]
     },
     "metadata": {},
     "output_type": "display_data"
    }
   ],
   "source": [
    "ds_mya_unicode = ds_mya['train'].map(\n",
    "    zawgyi_to_unicode_converter,\n",
    "    batched=True,\n",
    "    batch_size=100,\n",
    "    num_proc=10\n",
    ")"
   ]
  },
  {
   "cell_type": "code",
   "execution_count": 11,
   "id": "6198a53a",
   "metadata": {},
   "outputs": [
    {
     "data": {
      "application/vnd.jupyter.widget-view+json": {
       "model_id": "bb7dd07e3ebd4cd28905109df8897707",
       "version_major": 2,
       "version_minor": 0
      },
      "text/plain": [
       "Map (num_proc=10):   0%|          | 0/16096 [00:00<?, ? examples/s]"
      ]
     },
     "metadata": {},
     "output_type": "display_data"
    }
   ],
   "source": [
    "ds_mya_unicode_test = ds_mya['test'].map(\n",
    "    zawgyi_to_unicode_converter,\n",
    "    batched=True,\n",
    "    batch_size=100,\n",
    "    num_proc=10\n",
    ")"
   ]
  },
  {
   "cell_type": "code",
   "execution_count": 10,
   "id": "071fd612",
   "metadata": {},
   "outputs": [
    {
     "data": {
      "application/vnd.jupyter.widget-view+json": {
       "model_id": "26899540a5a840ae85fbc9562ba22706",
       "version_major": 2,
       "version_minor": 0
      },
      "text/plain": [
       "Map (num_proc=10):   0%|          | 0/1033074 [00:00<?, ? examples/s]"
      ]
     },
     "metadata": {},
     "output_type": "display_data"
    }
   ],
   "source": [
    "ds_mya_removed_unicode = ds_mya_removed['train'].map(\n",
    "    zawgyi_to_unicode_converter,\n",
    "    batched=True,\n",
    "    batch_size=100,\n",
    "    num_proc=10\n",
    ")"
   ]
  },
  {
   "cell_type": "code",
   "execution_count": 14,
   "id": "94f5d785",
   "metadata": {},
   "outputs": [
    {
     "data": {
      "text/plain": [
       "Dataset({\n",
       "    features: ['text', 'id', 'dump', 'url', 'date', 'file_path', 'language', 'language_score', 'language_script', 'minhash_cluster_size', 'filter_reason', 'top_langs'],\n",
       "    num_rows: 1033074\n",
       "})"
      ]
     },
     "execution_count": 14,
     "metadata": {},
     "output_type": "execute_result"
    }
   ],
   "source": [
    "ds_mya_removed_unicode"
   ]
  },
  {
   "cell_type": "markdown",
   "id": "6d454a0f",
   "metadata": {},
   "source": [
    "# Create the Dataset"
   ]
  },
  {
   "cell_type": "code",
   "execution_count": 15,
   "id": "5107ad0b",
   "metadata": {},
   "outputs": [],
   "source": [
    "from datasets import Dataset, DatasetDict"
   ]
  },
  {
   "cell_type": "code",
   "execution_count": 16,
   "id": "ee7621a4",
   "metadata": {},
   "outputs": [],
   "source": [
    "non_removed_dataset = DatasetDict({\n",
    "    \"train\": ds_mya_unicode,\n",
    "    \"test\": ds_mya_unicode_test\n",
    "})\n",
    "\n",
    "# Create the second configuration (removed)\n",
    "removed_dataset = DatasetDict({\n",
    "    \"train\": ds_mya_removed_unicode,\n",
    "})"
   ]
  },
  {
   "cell_type": "code",
   "execution_count": 17,
   "id": "5af82c77",
   "metadata": {},
   "outputs": [
    {
     "data": {
      "text/plain": [
       "DatasetDict({\n",
       "    train: Dataset({\n",
       "        features: ['text', 'id', 'dump', 'url', 'date', 'file_path', 'language', 'language_score', 'language_script', 'minhash_cluster_size', 'top_langs'],\n",
       "        num_rows: 1619895\n",
       "    })\n",
       "    test: Dataset({\n",
       "        features: ['text', 'id', 'dump', 'url', 'date', 'file_path', 'language', 'language_score', 'language_script', 'minhash_cluster_size', 'top_langs'],\n",
       "        num_rows: 16096\n",
       "    })\n",
       "})"
      ]
     },
     "execution_count": 17,
     "metadata": {},
     "output_type": "execute_result"
    }
   ],
   "source": [
    "non_removed_dataset"
   ]
  },
  {
   "cell_type": "code",
   "execution_count": 18,
   "id": "0ada1a54",
   "metadata": {},
   "outputs": [
    {
     "data": {
      "text/plain": [
       "DatasetDict({\n",
       "    train: Dataset({\n",
       "        features: ['text', 'id', 'dump', 'url', 'date', 'file_path', 'language', 'language_score', 'language_script', 'minhash_cluster_size', 'filter_reason', 'top_langs'],\n",
       "        num_rows: 1033074\n",
       "    })\n",
       "})"
      ]
     },
     "execution_count": 18,
     "metadata": {},
     "output_type": "execute_result"
    }
   ],
   "source": [
    "removed_dataset"
   ]
  },
  {
   "cell_type": "markdown",
   "id": "e8c1c69d",
   "metadata": {},
   "source": [
    "## Upload to HuggingFace"
   ]
  },
  {
   "cell_type": "code",
   "execution_count": 23,
   "id": "80b9aee7",
   "metadata": {},
   "outputs": [
    {
     "data": {
      "application/vnd.jupyter.widget-view+json": {
       "model_id": "7dcac092db2d46feaf8e41038474474a",
       "version_major": 2,
       "version_minor": 0
      },
      "text/plain": [
       "Uploading the dataset shards:   0%|          | 0/30 [00:00<?, ?it/s]"
      ]
     },
     "metadata": {},
     "output_type": "display_data"
    },
    {
     "data": {
      "application/vnd.jupyter.widget-view+json": {
       "model_id": "781668ad3135484189ff939576401aaa",
       "version_major": 2,
       "version_minor": 0
      },
      "text/plain": [
       "Creating parquet from Arrow format:   0%|          | 0/54 [00:00<?, ?ba/s]"
      ]
     },
     "metadata": {},
     "output_type": "display_data"
    },
    {
     "data": {
      "application/vnd.jupyter.widget-view+json": {
       "model_id": "7de560565849415887d1cda68f7917b4",
       "version_major": 2,
       "version_minor": 0
      },
      "text/plain": [
       "Creating parquet from Arrow format:   0%|          | 0/54 [00:00<?, ?ba/s]"
      ]
     },
     "metadata": {},
     "output_type": "display_data"
    },
    {
     "data": {
      "application/vnd.jupyter.widget-view+json": {
       "model_id": "2bf0a3b1331740fd82766242ef30eea1",
       "version_major": 2,
       "version_minor": 0
      },
      "text/plain": [
       "Creating parquet from Arrow format:   0%|          | 0/54 [00:00<?, ?ba/s]"
      ]
     },
     "metadata": {},
     "output_type": "display_data"
    },
    {
     "data": {
      "application/vnd.jupyter.widget-view+json": {
       "model_id": "e58f313cc3e04b43a836b4e4d361747a",
       "version_major": 2,
       "version_minor": 0
      },
      "text/plain": [
       "Creating parquet from Arrow format:   0%|          | 0/54 [00:00<?, ?ba/s]"
      ]
     },
     "metadata": {},
     "output_type": "display_data"
    },
    {
     "data": {
      "application/vnd.jupyter.widget-view+json": {
       "model_id": "53f47fb0560e4d908cbda1761552d2a2",
       "version_major": 2,
       "version_minor": 0
      },
      "text/plain": [
       "Creating parquet from Arrow format:   0%|          | 0/54 [00:00<?, ?ba/s]"
      ]
     },
     "metadata": {},
     "output_type": "display_data"
    },
    {
     "data": {
      "application/vnd.jupyter.widget-view+json": {
       "model_id": "6e650233a4af4d42a18cb141d84972da",
       "version_major": 2,
       "version_minor": 0
      },
      "text/plain": [
       "Creating parquet from Arrow format:   0%|          | 0/54 [00:00<?, ?ba/s]"
      ]
     },
     "metadata": {},
     "output_type": "display_data"
    },
    {
     "data": {
      "application/vnd.jupyter.widget-view+json": {
       "model_id": "306cfd0944d244c1ae38035d4bb0a49a",
       "version_major": 2,
       "version_minor": 0
      },
      "text/plain": [
       "Creating parquet from Arrow format:   0%|          | 0/54 [00:00<?, ?ba/s]"
      ]
     },
     "metadata": {},
     "output_type": "display_data"
    },
    {
     "data": {
      "application/vnd.jupyter.widget-view+json": {
       "model_id": "30c4b2a94632430c8315c386392eeaeb",
       "version_major": 2,
       "version_minor": 0
      },
      "text/plain": [
       "Creating parquet from Arrow format:   0%|          | 0/54 [00:00<?, ?ba/s]"
      ]
     },
     "metadata": {},
     "output_type": "display_data"
    },
    {
     "data": {
      "application/vnd.jupyter.widget-view+json": {
       "model_id": "613b5c44eee44002aa70d821ad309bc9",
       "version_major": 2,
       "version_minor": 0
      },
      "text/plain": [
       "Creating parquet from Arrow format:   0%|          | 0/54 [00:00<?, ?ba/s]"
      ]
     },
     "metadata": {},
     "output_type": "display_data"
    },
    {
     "data": {
      "application/vnd.jupyter.widget-view+json": {
       "model_id": "cc57f633b3d047bfa255202fcb35e86c",
       "version_major": 2,
       "version_minor": 0
      },
      "text/plain": [
       "Creating parquet from Arrow format:   0%|          | 0/54 [00:00<?, ?ba/s]"
      ]
     },
     "metadata": {},
     "output_type": "display_data"
    },
    {
     "data": {
      "application/vnd.jupyter.widget-view+json": {
       "model_id": "fbb52a4ebf2b4121b174640121bb3798",
       "version_major": 2,
       "version_minor": 0
      },
      "text/plain": [
       "Creating parquet from Arrow format:   0%|          | 0/54 [00:00<?, ?ba/s]"
      ]
     },
     "metadata": {},
     "output_type": "display_data"
    },
    {
     "data": {
      "application/vnd.jupyter.widget-view+json": {
       "model_id": "caa1bad9e148473c8dc4a277b01cd573",
       "version_major": 2,
       "version_minor": 0
      },
      "text/plain": [
       "Creating parquet from Arrow format:   0%|          | 0/54 [00:00<?, ?ba/s]"
      ]
     },
     "metadata": {},
     "output_type": "display_data"
    },
    {
     "data": {
      "application/vnd.jupyter.widget-view+json": {
       "model_id": "81fde3339cc748dc9da28ed158fd02ba",
       "version_major": 2,
       "version_minor": 0
      },
      "text/plain": [
       "Creating parquet from Arrow format:   0%|          | 0/54 [00:00<?, ?ba/s]"
      ]
     },
     "metadata": {},
     "output_type": "display_data"
    },
    {
     "data": {
      "application/vnd.jupyter.widget-view+json": {
       "model_id": "8fb191222d804e6cb4acc3f46ffdd948",
       "version_major": 2,
       "version_minor": 0
      },
      "text/plain": [
       "Creating parquet from Arrow format:   0%|          | 0/54 [00:00<?, ?ba/s]"
      ]
     },
     "metadata": {},
     "output_type": "display_data"
    },
    {
     "data": {
      "application/vnd.jupyter.widget-view+json": {
       "model_id": "475749d8a88a4f26a49dd25e52f9376a",
       "version_major": 2,
       "version_minor": 0
      },
      "text/plain": [
       "Creating parquet from Arrow format:   0%|          | 0/54 [00:00<?, ?ba/s]"
      ]
     },
     "metadata": {},
     "output_type": "display_data"
    },
    {
     "data": {
      "application/vnd.jupyter.widget-view+json": {
       "model_id": "64e8f9e81dd8452085fbdbd298e80624",
       "version_major": 2,
       "version_minor": 0
      },
      "text/plain": [
       "Creating parquet from Arrow format:   0%|          | 0/54 [00:00<?, ?ba/s]"
      ]
     },
     "metadata": {},
     "output_type": "display_data"
    },
    {
     "data": {
      "application/vnd.jupyter.widget-view+json": {
       "model_id": "c34dc923ce804a1eaddc16d24084139b",
       "version_major": 2,
       "version_minor": 0
      },
      "text/plain": [
       "Creating parquet from Arrow format:   0%|          | 0/54 [00:00<?, ?ba/s]"
      ]
     },
     "metadata": {},
     "output_type": "display_data"
    },
    {
     "data": {
      "application/vnd.jupyter.widget-view+json": {
       "model_id": "7cb43b8d32b24fe89cf8d981e4d20117",
       "version_major": 2,
       "version_minor": 0
      },
      "text/plain": [
       "Creating parquet from Arrow format:   0%|          | 0/54 [00:00<?, ?ba/s]"
      ]
     },
     "metadata": {},
     "output_type": "display_data"
    },
    {
     "data": {
      "application/vnd.jupyter.widget-view+json": {
       "model_id": "1688f21abcbf45cbbb4973073a8fa719",
       "version_major": 2,
       "version_minor": 0
      },
      "text/plain": [
       "Creating parquet from Arrow format:   0%|          | 0/54 [00:00<?, ?ba/s]"
      ]
     },
     "metadata": {},
     "output_type": "display_data"
    },
    {
     "data": {
      "application/vnd.jupyter.widget-view+json": {
       "model_id": "88b6a62cda6d415db2d5ceda7eaafd6c",
       "version_major": 2,
       "version_minor": 0
      },
      "text/plain": [
       "Creating parquet from Arrow format:   0%|          | 0/54 [00:00<?, ?ba/s]"
      ]
     },
     "metadata": {},
     "output_type": "display_data"
    },
    {
     "data": {
      "application/vnd.jupyter.widget-view+json": {
       "model_id": "59ae8dc78a3e4b7382205ab60626e7e5",
       "version_major": 2,
       "version_minor": 0
      },
      "text/plain": [
       "Creating parquet from Arrow format:   0%|          | 0/54 [00:00<?, ?ba/s]"
      ]
     },
     "metadata": {},
     "output_type": "display_data"
    },
    {
     "data": {
      "application/vnd.jupyter.widget-view+json": {
       "model_id": "cb4738208a3441c8aced775e18fa50f5",
       "version_major": 2,
       "version_minor": 0
      },
      "text/plain": [
       "Creating parquet from Arrow format:   0%|          | 0/54 [00:00<?, ?ba/s]"
      ]
     },
     "metadata": {},
     "output_type": "display_data"
    },
    {
     "data": {
      "application/vnd.jupyter.widget-view+json": {
       "model_id": "e6d93605bec84910b096975cfb30fa99",
       "version_major": 2,
       "version_minor": 0
      },
      "text/plain": [
       "Creating parquet from Arrow format:   0%|          | 0/54 [00:00<?, ?ba/s]"
      ]
     },
     "metadata": {},
     "output_type": "display_data"
    },
    {
     "data": {
      "application/vnd.jupyter.widget-view+json": {
       "model_id": "ace51f7fd22b436f8b53c16c9d2d1c66",
       "version_major": 2,
       "version_minor": 0
      },
      "text/plain": [
       "Creating parquet from Arrow format:   0%|          | 0/54 [00:00<?, ?ba/s]"
      ]
     },
     "metadata": {},
     "output_type": "display_data"
    },
    {
     "data": {
      "application/vnd.jupyter.widget-view+json": {
       "model_id": "0ef93a8351e74f2584538f90eba286e1",
       "version_major": 2,
       "version_minor": 0
      },
      "text/plain": [
       "Creating parquet from Arrow format:   0%|          | 0/54 [00:00<?, ?ba/s]"
      ]
     },
     "metadata": {},
     "output_type": "display_data"
    },
    {
     "data": {
      "application/vnd.jupyter.widget-view+json": {
       "model_id": "bed8a52866d44260b548f148fc071a48",
       "version_major": 2,
       "version_minor": 0
      },
      "text/plain": [
       "Creating parquet from Arrow format:   0%|          | 0/54 [00:00<?, ?ba/s]"
      ]
     },
     "metadata": {},
     "output_type": "display_data"
    },
    {
     "data": {
      "application/vnd.jupyter.widget-view+json": {
       "model_id": "31ef9e6d86ed4a51b28cf6bbfb216873",
       "version_major": 2,
       "version_minor": 0
      },
      "text/plain": [
       "Creating parquet from Arrow format:   0%|          | 0/54 [00:00<?, ?ba/s]"
      ]
     },
     "metadata": {},
     "output_type": "display_data"
    },
    {
     "data": {
      "application/vnd.jupyter.widget-view+json": {
       "model_id": "ba266eb8b4c4420b8c79b150dbd7ae1e",
       "version_major": 2,
       "version_minor": 0
      },
      "text/plain": [
       "Creating parquet from Arrow format:   0%|          | 0/54 [00:00<?, ?ba/s]"
      ]
     },
     "metadata": {},
     "output_type": "display_data"
    },
    {
     "data": {
      "application/vnd.jupyter.widget-view+json": {
       "model_id": "7386e70b93784f3c8296e7a5d257ee12",
       "version_major": 2,
       "version_minor": 0
      },
      "text/plain": [
       "Creating parquet from Arrow format:   0%|          | 0/54 [00:00<?, ?ba/s]"
      ]
     },
     "metadata": {},
     "output_type": "display_data"
    },
    {
     "data": {
      "application/vnd.jupyter.widget-view+json": {
       "model_id": "ccdd67f1d16d4abe9a238165718b8693",
       "version_major": 2,
       "version_minor": 0
      },
      "text/plain": [
       "Creating parquet from Arrow format:   0%|          | 0/54 [00:00<?, ?ba/s]"
      ]
     },
     "metadata": {},
     "output_type": "display_data"
    },
    {
     "data": {
      "application/vnd.jupyter.widget-view+json": {
       "model_id": "44608b2d4c024aa486c36fa0dc9d5c4a",
       "version_major": 2,
       "version_minor": 0
      },
      "text/plain": [
       "Uploading the dataset shards:   0%|          | 0/1 [00:00<?, ?it/s]"
      ]
     },
     "metadata": {},
     "output_type": "display_data"
    },
    {
     "data": {
      "application/vnd.jupyter.widget-view+json": {
       "model_id": "cf1dfe1a59b64fee88a1140a3e5dc3f0",
       "version_major": 2,
       "version_minor": 0
      },
      "text/plain": [
       "Creating parquet from Arrow format:   0%|          | 0/17 [00:00<?, ?ba/s]"
      ]
     },
     "metadata": {},
     "output_type": "display_data"
    },
    {
     "data": {
      "application/vnd.jupyter.widget-view+json": {
       "model_id": "a36a0c97ea9c4293a4007094c9a77a27",
       "version_major": 2,
       "version_minor": 0
      },
      "text/plain": [
       "Uploading the dataset shards:   0%|          | 0/12 [00:00<?, ?it/s]"
      ]
     },
     "metadata": {},
     "output_type": "display_data"
    },
    {
     "data": {
      "application/vnd.jupyter.widget-view+json": {
       "model_id": "d24eb3999444481492cdfa29c9c80ec2",
       "version_major": 2,
       "version_minor": 0
      },
      "text/plain": [
       "Creating parquet from Arrow format:   0%|          | 0/87 [00:00<?, ?ba/s]"
      ]
     },
     "metadata": {},
     "output_type": "display_data"
    },
    {
     "data": {
      "application/vnd.jupyter.widget-view+json": {
       "model_id": "70f2d055cc30430b832015bd6c3bee00",
       "version_major": 2,
       "version_minor": 0
      },
      "text/plain": [
       "Creating parquet from Arrow format:   0%|          | 0/87 [00:00<?, ?ba/s]"
      ]
     },
     "metadata": {},
     "output_type": "display_data"
    },
    {
     "data": {
      "application/vnd.jupyter.widget-view+json": {
       "model_id": "626188e2846942188069082a222f0b1a",
       "version_major": 2,
       "version_minor": 0
      },
      "text/plain": [
       "Creating parquet from Arrow format:   0%|          | 0/87 [00:00<?, ?ba/s]"
      ]
     },
     "metadata": {},
     "output_type": "display_data"
    },
    {
     "data": {
      "application/vnd.jupyter.widget-view+json": {
       "model_id": "3691b297d5504fe9bc20f66acd851f73",
       "version_major": 2,
       "version_minor": 0
      },
      "text/plain": [
       "Creating parquet from Arrow format:   0%|          | 0/87 [00:00<?, ?ba/s]"
      ]
     },
     "metadata": {},
     "output_type": "display_data"
    },
    {
     "data": {
      "application/vnd.jupyter.widget-view+json": {
       "model_id": "be9b1315d9a949708996647b366b9033",
       "version_major": 2,
       "version_minor": 0
      },
      "text/plain": [
       "Creating parquet from Arrow format:   0%|          | 0/87 [00:00<?, ?ba/s]"
      ]
     },
     "metadata": {},
     "output_type": "display_data"
    },
    {
     "data": {
      "application/vnd.jupyter.widget-view+json": {
       "model_id": "475a34ce2f6f4487a626b837286421ba",
       "version_major": 2,
       "version_minor": 0
      },
      "text/plain": [
       "Creating parquet from Arrow format:   0%|          | 0/87 [00:00<?, ?ba/s]"
      ]
     },
     "metadata": {},
     "output_type": "display_data"
    },
    {
     "data": {
      "application/vnd.jupyter.widget-view+json": {
       "model_id": "b094359b7e9b430595e64bfba549199e",
       "version_major": 2,
       "version_minor": 0
      },
      "text/plain": [
       "Creating parquet from Arrow format:   0%|          | 0/87 [00:00<?, ?ba/s]"
      ]
     },
     "metadata": {},
     "output_type": "display_data"
    },
    {
     "data": {
      "application/vnd.jupyter.widget-view+json": {
       "model_id": "6d7bb31d411d486d967fa655ed307c0d",
       "version_major": 2,
       "version_minor": 0
      },
      "text/plain": [
       "Creating parquet from Arrow format:   0%|          | 0/87 [00:00<?, ?ba/s]"
      ]
     },
     "metadata": {},
     "output_type": "display_data"
    },
    {
     "data": {
      "application/vnd.jupyter.widget-view+json": {
       "model_id": "41a350f5bd5e48ffbccc365aa96deac8",
       "version_major": 2,
       "version_minor": 0
      },
      "text/plain": [
       "Creating parquet from Arrow format:   0%|          | 0/87 [00:00<?, ?ba/s]"
      ]
     },
     "metadata": {},
     "output_type": "display_data"
    },
    {
     "data": {
      "application/vnd.jupyter.widget-view+json": {
       "model_id": "ea40796db0eb4664afe81e38cf17e94a",
       "version_major": 2,
       "version_minor": 0
      },
      "text/plain": [
       "Creating parquet from Arrow format:   0%|          | 0/87 [00:00<?, ?ba/s]"
      ]
     },
     "metadata": {},
     "output_type": "display_data"
    },
    {
     "data": {
      "application/vnd.jupyter.widget-view+json": {
       "model_id": "436d5b54e7bd461cbd24d3520b932da7",
       "version_major": 2,
       "version_minor": 0
      },
      "text/plain": [
       "Creating parquet from Arrow format:   0%|          | 0/87 [00:00<?, ?ba/s]"
      ]
     },
     "metadata": {},
     "output_type": "display_data"
    },
    {
     "data": {
      "application/vnd.jupyter.widget-view+json": {
       "model_id": "f37691ecf1bb431f8e60775857a40a56",
       "version_major": 2,
       "version_minor": 0
      },
      "text/plain": [
       "Creating parquet from Arrow format:   0%|          | 0/87 [00:00<?, ?ba/s]"
      ]
     },
     "metadata": {},
     "output_type": "display_data"
    },
    {
     "data": {
      "application/vnd.jupyter.widget-view+json": {
       "model_id": "38e7c53d16504cab9d709785d3150f31",
       "version_major": 2,
       "version_minor": 0
      },
      "text/plain": [
       "README.md:   0%|          | 0.00/801 [00:00<?, ?B/s]"
      ]
     },
     "metadata": {},
     "output_type": "display_data"
    },
    {
     "data": {
      "text/plain": [
       "CommitInfo(commit_url='https://huggingface.co/datasets/chuuhtetnaing/myanmar-fineweb-2-dataset/commit/8eaa0747bb878cb7f7d9bc28ea170f75e414c126', commit_message='Upload dataset', commit_description='', oid='8eaa0747bb878cb7f7d9bc28ea170f75e414c126', pr_url=None, repo_url=RepoUrl('https://huggingface.co/datasets/chuuhtetnaing/myanmar-fineweb-2-dataset', endpoint='https://huggingface.co', repo_type='dataset', repo_id='chuuhtetnaing/myanmar-fineweb-2-dataset'), pr_revision=None, pr_num=None)"
      ]
     },
     "execution_count": 23,
     "metadata": {},
     "output_type": "execute_result"
    }
   ],
   "source": [
    "non_removed_dataset.push_to_hub(\"chuuhtetnaing/myanmar-fineweb-2-dataset\", config_name=\"filtered\")\n",
    "removed_dataset.push_to_hub(\"chuuhtetnaing/myanmar-fineweb-2-dataset\", config_name=\"removed\")"
   ]
  },
  {
   "cell_type": "code",
   "execution_count": null,
   "id": "beac1cc9",
   "metadata": {},
   "outputs": [],
   "source": []
  },
  {
   "cell_type": "markdown",
   "id": "8e71ddbf",
   "metadata": {},
   "source": [
    "# Load the Uploaded Dataset"
   ]
  },
  {
   "cell_type": "code",
   "execution_count": 27,
   "id": "9926c1bb",
   "metadata": {},
   "outputs": [],
   "source": [
    "from datasets import concatenate_datasets"
   ]
  },
  {
   "cell_type": "code",
   "execution_count": 30,
   "id": "6a5a1f96",
   "metadata": {},
   "outputs": [
    {
     "data": {
      "text/plain": [
       "DatasetDict({\n",
       "    train: Dataset({\n",
       "        features: ['text', 'id', 'dump', 'url', 'date', 'file_path', 'language', 'language_score', 'language_script', 'minhash_cluster_size', 'filter_reason', 'top_langs'],\n",
       "        num_rows: 1033074\n",
       "    })\n",
       "})"
      ]
     },
     "execution_count": 30,
     "metadata": {},
     "output_type": "execute_result"
    }
   ],
   "source": [
    "removed_ds"
   ]
  },
  {
   "cell_type": "code",
   "execution_count": 31,
   "id": "2bf62f6a",
   "metadata": {},
   "outputs": [
    {
     "data": {
      "application/vnd.jupyter.widget-view+json": {
       "model_id": "31cfa56d1abb4318a699b5cb4035f659",
       "version_major": 2,
       "version_minor": 0
      },
      "text/plain": [
       "Resolving data files:   0%|          | 0/30 [00:00<?, ?it/s]"
      ]
     },
     "metadata": {},
     "output_type": "display_data"
    },
    {
     "data": {
      "application/vnd.jupyter.widget-view+json": {
       "model_id": "c22d7458d6f046ec9bf383761e9b40ae",
       "version_major": 2,
       "version_minor": 0
      },
      "text/plain": [
       "Resolving data files:   0%|          | 0/30 [00:00<?, ?it/s]"
      ]
     },
     "metadata": {},
     "output_type": "display_data"
    },
    {
     "data": {
      "application/vnd.jupyter.widget-view+json": {
       "model_id": "f97daa3f93bf49ae82b7481c584711da",
       "version_major": 2,
       "version_minor": 0
      },
      "text/plain": [
       "Loading dataset shards:   0%|          | 0/29 [00:00<?, ?it/s]"
      ]
     },
     "metadata": {},
     "output_type": "display_data"
    },
    {
     "data": {
      "application/vnd.jupyter.widget-view+json": {
       "model_id": "c9a3963d2ed94e94a259fe3c18b5c6df",
       "version_major": 2,
       "version_minor": 0
      },
      "text/plain": [
       "Resolving data files:   0%|          | 0/30 [00:00<?, ?it/s]"
      ]
     },
     "metadata": {},
     "output_type": "display_data"
    }
   ],
   "source": [
    "filtered_ds = load_dataset(\"chuuhtetnaing/myanmar-fineweb-2-dataset\", name='filtered')\n",
    "removed_ds = load_dataset(\"chuuhtetnaing/myanmar-fineweb-2-dataset\", name='removed')\n",
    "\n",
    "ds = DatasetDict({\n",
    "    \"train\": concatenate_datasets([filtered_ds[\"train\"], removed_ds[\"train\"]]),\n",
    "    \"test\": filtered_ds[\"test\"]\n",
    "})"
   ]
  },
  {
   "cell_type": "code",
   "execution_count": 32,
   "id": "39c386d5",
   "metadata": {},
   "outputs": [
    {
     "data": {
      "text/plain": [
       "DatasetDict({\n",
       "    train: Dataset({\n",
       "        features: ['text', 'id', 'dump', 'url', 'date', 'file_path', 'language', 'language_score', 'language_script', 'minhash_cluster_size', 'top_langs', 'filter_reason'],\n",
       "        num_rows: 2652969\n",
       "    })\n",
       "    test: Dataset({\n",
       "        features: ['text', 'id', 'dump', 'url', 'date', 'file_path', 'language', 'language_score', 'language_script', 'minhash_cluster_size', 'top_langs'],\n",
       "        num_rows: 16096\n",
       "    })\n",
       "})"
      ]
     },
     "execution_count": 32,
     "metadata": {},
     "output_type": "execute_result"
    }
   ],
   "source": [
    "ds"
   ]
  },
  {
   "cell_type": "code",
   "execution_count": null,
   "id": "c423fae7",
   "metadata": {},
   "outputs": [],
   "source": []
  }
 ],
 "metadata": {
  "kernelspec": {
   "display_name": "Python 3 (ipykernel)",
   "language": "python",
   "name": "python3"
  },
  "language_info": {
   "codemirror_mode": {
    "name": "ipython",
    "version": 3
   },
   "file_extension": ".py",
   "mimetype": "text/x-python",
   "name": "python",
   "nbconvert_exporter": "python",
   "pygments_lexer": "ipython3",
   "version": "3.11.11"
  }
 },
 "nbformat": 4,
 "nbformat_minor": 5
}
