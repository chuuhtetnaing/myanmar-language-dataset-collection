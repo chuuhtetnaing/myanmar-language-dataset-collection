{
 "cells": [
  {
   "metadata": {},
   "cell_type": "markdown",
   "source": [
    "1. Download my_mm_female.zip from https://www.openslr.org/80/\n",
    "2. Unzip my_mm_female.zip folder and rename it to raw-data\n",
    "3. Create the folder openslr-80 in current directory\n",
    "3. Copy the raw-data folder to openslr-80 folder "
   ],
   "id": "f00e0d862fc790c6"
  },
  {
   "cell_type": "code",
   "id": "initial_id",
   "metadata": {
    "collapsed": true,
    "ExecuteTime": {
     "end_time": "2024-07-28T06:54:28.285831Z",
     "start_time": "2024-07-28T06:54:27.633561Z"
    }
   },
   "source": [
    "import os\n",
    "from pathlib import Path\n",
    "import pandas as pd\n",
    "from sklearn.model_selection import train_test_split\n",
    "import shutil"
   ],
   "outputs": [],
   "execution_count": 1
  },
  {
   "metadata": {
    "ExecuteTime": {
     "end_time": "2024-07-28T06:54:31.987081Z",
     "start_time": "2024-07-28T06:54:31.983941Z"
    }
   },
   "cell_type": "code",
   "source": [
    "seed = 42\n",
    "openslr_dir = Path(\"./openslr-80\")"
   ],
   "id": "fb8cb60ddd85fe28",
   "outputs": [],
   "execution_count": 2
  },
  {
   "metadata": {},
   "cell_type": "markdown",
   "source": "# 1. Check file extensions",
   "id": "ff125dcba30315bf"
  },
  {
   "metadata": {
    "ExecuteTime": {
     "end_time": "2024-07-28T06:54:33.787677Z",
     "start_time": "2024-07-28T06:54:33.756403Z"
    }
   },
   "cell_type": "code",
   "source": [
    "file_names = []\n",
    "file_extensions = []\n",
    "for root, dirs, files in os.walk(openslr_dir / \"raw-data\"):\n",
    "    for file in files: \n",
    "        file_name = root / Path(file)\n",
    "        file_names.append(file_name)\n",
    "        file_extensions.append(file_name.suffix)"
   ],
   "id": "928fc2b398b17a1c",
   "outputs": [],
   "execution_count": 3
  },
  {
   "metadata": {
    "ExecuteTime": {
     "end_time": "2024-07-28T06:54:33.963520Z",
     "start_time": "2024-07-28T06:54:33.956705Z"
    }
   },
   "cell_type": "code",
   "source": "set(file_extensions)",
   "id": "e2f47383f352ccf8",
   "outputs": [
    {
     "data": {
      "text/plain": [
       "{'', '.tsv', '.wav'}"
      ]
     },
     "execution_count": 4,
     "metadata": {},
     "output_type": "execute_result"
    }
   ],
   "execution_count": 4
  },
  {
   "metadata": {},
   "cell_type": "markdown",
   "source": "# 2. Split Train and Test",
   "id": "6692da0211661318"
  },
  {
   "metadata": {},
   "cell_type": "markdown",
   "source": "## 2.1 Load the dataset",
   "id": "fe83ce09165ed050"
  },
  {
   "metadata": {
    "ExecuteTime": {
     "end_time": "2024-07-28T06:54:34.440404Z",
     "start_time": "2024-07-28T06:54:34.425217Z"
    }
   },
   "cell_type": "code",
   "source": "df = pd.read_csv(openslr_dir / \"raw-data/line_index.tsv\", delimiter=\"\\t\", header=None, names=['file_name', 'transcription'])",
   "id": "ec7a205cdaa01aa",
   "outputs": [],
   "execution_count": 5
  },
  {
   "metadata": {
    "ExecuteTime": {
     "end_time": "2024-07-28T06:54:34.577349Z",
     "start_time": "2024-07-28T06:54:34.573684Z"
    }
   },
   "cell_type": "code",
   "source": "df.shape",
   "id": "2fc3ae9a566c756c",
   "outputs": [
    {
     "data": {
      "text/plain": [
       "(2530, 2)"
      ]
     },
     "execution_count": 6,
     "metadata": {},
     "output_type": "execute_result"
    }
   ],
   "execution_count": 6
  },
  {
   "metadata": {
    "ExecuteTime": {
     "end_time": "2024-07-28T06:54:34.724652Z",
     "start_time": "2024-07-28T06:54:34.719013Z"
    }
   },
   "cell_type": "code",
   "source": "df.head()",
   "id": "7668c3d370bbc8dc",
   "outputs": [
    {
     "data": {
      "text/plain": [
       "             file_name                                      transcription\n",
       "0  bur_7865_1250917969  ပြီးတော့ တရုတ် နဲ့လည်း ချစ်ကြည်ရင်းနှီးတဲ့ ဆက်...\n",
       "1  bur_8698_6883351313  အဲ့ဒီ ဝေဖန်မှုတွေ နဲ့ ပတ်သက် လို့ ဘယ်လို တုံ့ပ...\n",
       "2  bur_3260_8853590661  မမီ မွေးဖွားနေတဲ့ အချိန် မှာတော့ ဘုရား ဂုဏ်တော...\n",
       "3  bur_2446_1980151079  ခင်ဦးသာ နှင့် နန်းလွင်နှင်းပွင့် ပူးပေါင်း ရေး...\n",
       "4  bur_5189_8958061789  ကြည့်ရသည်မှာ မြန်မာ နိုင်ငံ တွင် သူ့ အတွက် ခို..."
      ],
      "text/html": [
       "<div>\n",
       "<style scoped>\n",
       "    .dataframe tbody tr th:only-of-type {\n",
       "        vertical-align: middle;\n",
       "    }\n",
       "\n",
       "    .dataframe tbody tr th {\n",
       "        vertical-align: top;\n",
       "    }\n",
       "\n",
       "    .dataframe thead th {\n",
       "        text-align: right;\n",
       "    }\n",
       "</style>\n",
       "<table border=\"1\" class=\"dataframe\">\n",
       "  <thead>\n",
       "    <tr style=\"text-align: right;\">\n",
       "      <th></th>\n",
       "      <th>file_name</th>\n",
       "      <th>transcription</th>\n",
       "    </tr>\n",
       "  </thead>\n",
       "  <tbody>\n",
       "    <tr>\n",
       "      <th>0</th>\n",
       "      <td>bur_7865_1250917969</td>\n",
       "      <td>ပြီးတော့ တရုတ် နဲ့လည်း ချစ်ကြည်ရင်းနှီးတဲ့ ဆက်...</td>\n",
       "    </tr>\n",
       "    <tr>\n",
       "      <th>1</th>\n",
       "      <td>bur_8698_6883351313</td>\n",
       "      <td>အဲ့ဒီ ဝေဖန်မှုတွေ နဲ့ ပတ်သက် လို့ ဘယ်လို တုံ့ပ...</td>\n",
       "    </tr>\n",
       "    <tr>\n",
       "      <th>2</th>\n",
       "      <td>bur_3260_8853590661</td>\n",
       "      <td>မမီ မွေးဖွားနေတဲ့ အချိန် မှာတော့ ဘုရား ဂုဏ်တော...</td>\n",
       "    </tr>\n",
       "    <tr>\n",
       "      <th>3</th>\n",
       "      <td>bur_2446_1980151079</td>\n",
       "      <td>ခင်ဦးသာ နှင့် နန်းလွင်နှင်းပွင့် ပူးပေါင်း ရေး...</td>\n",
       "    </tr>\n",
       "    <tr>\n",
       "      <th>4</th>\n",
       "      <td>bur_5189_8958061789</td>\n",
       "      <td>ကြည့်ရသည်မှာ မြန်မာ နိုင်ငံ တွင် သူ့ အတွက် ခို...</td>\n",
       "    </tr>\n",
       "  </tbody>\n",
       "</table>\n",
       "</div>"
      ]
     },
     "execution_count": 7,
     "metadata": {},
     "output_type": "execute_result"
    }
   ],
   "execution_count": 7
  },
  {
   "metadata": {},
   "cell_type": "markdown",
   "source": "## 2.2 Create the Split",
   "id": "3ac50aeacbfdff5a"
  },
  {
   "metadata": {
    "ExecuteTime": {
     "end_time": "2024-07-28T06:54:34.972702Z",
     "start_time": "2024-07-28T06:54:34.970011Z"
    }
   },
   "cell_type": "code",
   "source": "train_df, test_df = train_test_split(df, test_size=0.1, random_state=seed)",
   "id": "816d6ff77b08b093",
   "outputs": [],
   "execution_count": 8
  },
  {
   "metadata": {
    "ExecuteTime": {
     "end_time": "2024-07-28T06:54:35.129080Z",
     "start_time": "2024-07-28T06:54:35.126530Z"
    }
   },
   "cell_type": "code",
   "source": "print(train_df.shape[0], test_df.shape[0])",
   "id": "354a71186106b709",
   "outputs": [
    {
     "name": "stdout",
     "output_type": "stream",
     "text": [
      "2277 253\n"
     ]
    }
   ],
   "execution_count": 9
  },
  {
   "metadata": {
    "ExecuteTime": {
     "end_time": "2024-07-28T06:54:35.271649Z",
     "start_time": "2024-07-28T06:54:35.270214Z"
    }
   },
   "cell_type": "code",
   "source": "",
   "id": "6efde464be19ae45",
   "outputs": [],
   "execution_count": 9
  },
  {
   "metadata": {},
   "cell_type": "markdown",
   "source": "# 3. Create Train Dataset and Test Dataset",
   "id": "98fb89dff583c032"
  },
  {
   "metadata": {},
   "cell_type": "markdown",
   "source": "## 3.1 Create Train and Test Directories ",
   "id": "8b1cc47c88d62cc7"
  },
  {
   "metadata": {
    "ExecuteTime": {
     "end_time": "2024-07-28T06:54:35.789635Z",
     "start_time": "2024-07-28T06:54:35.784835Z"
    }
   },
   "cell_type": "code",
   "source": [
    "data_dir = openslr_dir / \"data/myanmar-speech-dataset-openslr-80\"\n",
    "train_dir = data_dir / \"train\"\n",
    "test_dir = data_dir / \"test\"\n",
    "\n",
    "train_dir.mkdir(parents=True, exist_ok=True) \n",
    "train_dir.mkdir(parents=True, exist_ok=True)\n",
    "test_dir.mkdir(parents=True, exist_ok=True)"
   ],
   "id": "6981f57ae386e55e",
   "outputs": [],
   "execution_count": 10
  },
  {
   "metadata": {
    "ExecuteTime": {
     "end_time": "2024-07-28T06:54:35.948115Z",
     "start_time": "2024-07-28T06:54:35.946521Z"
    }
   },
   "cell_type": "code",
   "source": "",
   "id": "cb1ca77f2853ee0",
   "outputs": [],
   "execution_count": 10
  },
  {
   "metadata": {},
   "cell_type": "markdown",
   "source": "## 3.2 Copy the training data to Train Directory",
   "id": "41ff2bdd4bfd9dea"
  },
  {
   "metadata": {
    "ExecuteTime": {
     "end_time": "2024-07-28T06:54:38.445899Z",
     "start_time": "2024-07-28T06:54:36.243491Z"
    }
   },
   "cell_type": "code",
   "source": [
    "for index, row in train_df.iterrows():\n",
    "    file_name = row['file_name'] + \".wav\"\n",
    "    source_file = openslr_dir / \"raw-data\" / file_name\n",
    "    destination_file = train_dir / file_name\n",
    "    \n",
    "    shutil.copy2(source_file, destination_file)   "
   ],
   "id": "3abfa5f05b4a139e",
   "outputs": [],
   "execution_count": 11
  },
  {
   "metadata": {
    "ExecuteTime": {
     "end_time": "2024-07-28T06:54:38.448036Z",
     "start_time": "2024-07-28T06:54:38.446810Z"
    }
   },
   "cell_type": "code",
   "source": "",
   "id": "d264a395af1f7c25",
   "outputs": [],
   "execution_count": 11
  },
  {
   "metadata": {},
   "cell_type": "markdown",
   "source": "## 3.3 Copy the test data to Test Directory",
   "id": "5d31e67bf1019db7"
  },
  {
   "metadata": {
    "ExecuteTime": {
     "end_time": "2024-07-28T06:54:51.640106Z",
     "start_time": "2024-07-28T06:54:51.394956Z"
    }
   },
   "cell_type": "code",
   "source": [
    "for index, row in test_df.iterrows():\n",
    "    file_name = row['file_name'] + \".wav\"\n",
    "    source_file = openslr_dir / \"raw-data\" / file_name\n",
    "    destination_file = test_dir / file_name\n",
    "    \n",
    "    shutil.copy2(source_file, destination_file)   "
   ],
   "id": "1fa5e4c41d67fd73",
   "outputs": [],
   "execution_count": 12
  },
  {
   "metadata": {
    "ExecuteTime": {
     "end_time": "2024-07-28T06:54:52.138979Z",
     "start_time": "2024-07-28T06:54:52.137228Z"
    }
   },
   "cell_type": "code",
   "source": "",
   "id": "e8b987fe6ea69389",
   "outputs": [],
   "execution_count": 12
  },
  {
   "metadata": {},
   "cell_type": "markdown",
   "source": "## 3.4 Save the csv",
   "id": "4f701a38571a6df8"
  },
  {
   "metadata": {
    "ExecuteTime": {
     "end_time": "2024-07-28T06:54:52.747677Z",
     "start_time": "2024-07-28T06:54:52.742879Z"
    }
   },
   "cell_type": "code",
   "source": [
    "train_df['file_name'] = \"train/\" + train_df['file_name'] + \".wav\"\n",
    "test_df['file_name'] = \"test/\" + test_df['file_name'] + \".wav\""
   ],
   "id": "a1d8753e77a16ac",
   "outputs": [],
   "execution_count": 13
  },
  {
   "metadata": {
    "ExecuteTime": {
     "end_time": "2024-07-28T06:54:53.087184Z",
     "start_time": "2024-07-28T06:54:53.084028Z"
    }
   },
   "cell_type": "code",
   "source": [
    "metadata_df = pd.concat([train_df, test_df])\n",
    "metadata_df.reset_index(drop=True, inplace=True)"
   ],
   "id": "67e2fc0471e684ef",
   "outputs": [],
   "execution_count": 14
  },
  {
   "metadata": {
    "ExecuteTime": {
     "end_time": "2024-07-28T06:54:53.725270Z",
     "start_time": "2024-07-28T06:54:53.711531Z"
    }
   },
   "cell_type": "code",
   "source": "metadata_df.to_csv(data_dir / \"metadata.csv\", index=False)",
   "id": "2a2776acf6043ee0",
   "outputs": [],
   "execution_count": 15
  },
  {
   "metadata": {},
   "cell_type": "markdown",
   "source": "# 4. Upload dataset to hub",
   "id": "7e712f2e78a8cc29"
  },
  {
   "metadata": {
    "ExecuteTime": {
     "end_time": "2024-07-28T06:54:54.757713Z",
     "start_time": "2024-07-28T06:54:54.362190Z"
    }
   },
   "cell_type": "code",
   "source": "from datasets import load_dataset",
   "id": "428ea533d8f534d2",
   "outputs": [],
   "execution_count": 16
  },
  {
   "metadata": {},
   "cell_type": "markdown",
   "source": "## 4.1 Load the dataset",
   "id": "f41bc2f011842561"
  },
  {
   "metadata": {
    "ExecuteTime": {
     "end_time": "2024-07-28T06:54:57.595439Z",
     "start_time": "2024-07-28T06:54:55.301866Z"
    }
   },
   "cell_type": "code",
   "source": "dataset = load_dataset(\"audiofolder\", data_dir=\"openslr-80/data/myanmar-speech-dataset-openslr-80\")",
   "id": "28c7f874933dad4c",
   "outputs": [
    {
     "data": {
      "text/plain": [
       "Resolving data files:   0%|          | 0/2277 [00:00<?, ?it/s]"
      ],
      "application/vnd.jupyter.widget-view+json": {
       "version_major": 2,
       "version_minor": 0,
       "model_id": "86b77a5f339f4ff88d5de2d775ba7272"
      }
     },
     "metadata": {},
     "output_type": "display_data"
    },
    {
     "data": {
      "text/plain": [
       "Resolving data files:   0%|          | 0/253 [00:00<?, ?it/s]"
      ],
      "application/vnd.jupyter.widget-view+json": {
       "version_major": 2,
       "version_minor": 0,
       "model_id": "2174c9b8cb3548c6a0b39e4855d8dac9"
      }
     },
     "metadata": {},
     "output_type": "display_data"
    },
    {
     "data": {
      "text/plain": [
       "Downloading data:   0%|          | 0/2278 [00:00<?, ?files/s]"
      ],
      "application/vnd.jupyter.widget-view+json": {
       "version_major": 2,
       "version_minor": 0,
       "model_id": "4f918740bee74f39a6902575cc863c22"
      }
     },
     "metadata": {},
     "output_type": "display_data"
    },
    {
     "data": {
      "text/plain": [
       "Downloading data:   0%|          | 0/254 [00:00<?, ?files/s]"
      ],
      "application/vnd.jupyter.widget-view+json": {
       "version_major": 2,
       "version_minor": 0,
       "model_id": "ec0a4ba75ee24644abefcd9d4018ee3c"
      }
     },
     "metadata": {},
     "output_type": "display_data"
    },
    {
     "data": {
      "text/plain": [
       "Generating train split: 0 examples [00:00, ? examples/s]"
      ],
      "application/vnd.jupyter.widget-view+json": {
       "version_major": 2,
       "version_minor": 0,
       "model_id": "ebd001876c4a46b2b64a6979a846cd4a"
      }
     },
     "metadata": {},
     "output_type": "display_data"
    },
    {
     "data": {
      "text/plain": [
       "Generating test split: 0 examples [00:00, ? examples/s]"
      ],
      "application/vnd.jupyter.widget-view+json": {
       "version_major": 2,
       "version_minor": 0,
       "model_id": "47d4d8c8c1574b4494fb0f346ac4692b"
      }
     },
     "metadata": {},
     "output_type": "display_data"
    }
   ],
   "execution_count": 17
  },
  {
   "metadata": {
    "ExecuteTime": {
     "end_time": "2024-07-28T06:54:58.094139Z",
     "start_time": "2024-07-28T06:54:57.596925Z"
    }
   },
   "cell_type": "code",
   "source": "dataset['train'][0]",
   "id": "15c8d1f92f6c43f2",
   "outputs": [
    {
     "data": {
      "text/plain": [
       "{'audio': {'path': '/Users/chuu/Documents/myanmar-language-dataset-collection/Crowdsourced Burmese Speech Dataset/openslr-80/data/myanmar-speech-dataset-openslr-80/train/bur_0366_0045318711.wav',\n",
       "  'array': array([0., 0., 0., ..., 0., 0., 0.]),\n",
       "  'sampling_rate': 48000},\n",
       " 'transcription': 'ဆိုတော့ တယ်လီဖုန်း အော်ပရေတာ ဖြစ်လာရင် ကော ဝန်ဆောင်မှုပိုင်း က ကောင်းနိုင်ပါ့မလား'}"
      ]
     },
     "execution_count": 18,
     "metadata": {},
     "output_type": "execute_result"
    }
   ],
   "execution_count": 18
  },
  {
   "metadata": {},
   "cell_type": "markdown",
   "source": "## Upload to hub",
   "id": "374147ceb8939ef0"
  },
  {
   "metadata": {
    "ExecuteTime": {
     "end_time": "2024-07-28T06:57:46.435580Z",
     "start_time": "2024-07-28T06:56:32.941359Z"
    }
   },
   "cell_type": "code",
   "source": "dataset.push_to_hub(\"chuuhtetnaing/myanmar-speech-dataset-openslr-80\")",
   "id": "f1f43f2aa3f82aa7",
   "outputs": [
    {
     "data": {
      "text/plain": [
       "Uploading the dataset shards:   0%|          | 0/3 [00:00<?, ?it/s]"
      ],
      "application/vnd.jupyter.widget-view+json": {
       "version_major": 2,
       "version_minor": 0,
       "model_id": "e42decdf18404ea3ac22f0ec057668d3"
      }
     },
     "metadata": {},
     "output_type": "display_data"
    },
    {
     "data": {
      "text/plain": [
       "Map:   0%|          | 0/759 [00:00<?, ? examples/s]"
      ],
      "application/vnd.jupyter.widget-view+json": {
       "version_major": 2,
       "version_minor": 0,
       "model_id": "5cb4efceb1d24b7eb1760ee0c973bf2e"
      }
     },
     "metadata": {},
     "output_type": "display_data"
    },
    {
     "data": {
      "text/plain": [
       "Creating parquet from Arrow format:   0%|          | 0/8 [00:00<?, ?ba/s]"
      ],
      "application/vnd.jupyter.widget-view+json": {
       "version_major": 2,
       "version_minor": 0,
       "model_id": "9e04e3cd53324d118e43517d1e5dc9be"
      }
     },
     "metadata": {},
     "output_type": "display_data"
    },
    {
     "data": {
      "text/plain": [
       "Map:   0%|          | 0/759 [00:00<?, ? examples/s]"
      ],
      "application/vnd.jupyter.widget-view+json": {
       "version_major": 2,
       "version_minor": 0,
       "model_id": "57a4d6f781704b2ebecf4bcfc97f2f46"
      }
     },
     "metadata": {},
     "output_type": "display_data"
    },
    {
     "data": {
      "text/plain": [
       "Creating parquet from Arrow format:   0%|          | 0/8 [00:00<?, ?ba/s]"
      ],
      "application/vnd.jupyter.widget-view+json": {
       "version_major": 2,
       "version_minor": 0,
       "model_id": "3ff56f99113b489a9e1279c8059282d8"
      }
     },
     "metadata": {},
     "output_type": "display_data"
    },
    {
     "data": {
      "text/plain": [
       "Map:   0%|          | 0/759 [00:00<?, ? examples/s]"
      ],
      "application/vnd.jupyter.widget-view+json": {
       "version_major": 2,
       "version_minor": 0,
       "model_id": "216336237bc9456b8878037e5e12fd4b"
      }
     },
     "metadata": {},
     "output_type": "display_data"
    },
    {
     "data": {
      "text/plain": [
       "Creating parquet from Arrow format:   0%|          | 0/8 [00:00<?, ?ba/s]"
      ],
      "application/vnd.jupyter.widget-view+json": {
       "version_major": 2,
       "version_minor": 0,
       "model_id": "86b7b0bb11864c00b659f97d89b1e62f"
      }
     },
     "metadata": {},
     "output_type": "display_data"
    },
    {
     "data": {
      "text/plain": [
       "Uploading the dataset shards:   0%|          | 0/1 [00:00<?, ?it/s]"
      ],
      "application/vnd.jupyter.widget-view+json": {
       "version_major": 2,
       "version_minor": 0,
       "model_id": "b2199a10fa9a4240b5fc5c276d8f4969"
      }
     },
     "metadata": {},
     "output_type": "display_data"
    },
    {
     "data": {
      "text/plain": [
       "Map:   0%|          | 0/253 [00:00<?, ? examples/s]"
      ],
      "application/vnd.jupyter.widget-view+json": {
       "version_major": 2,
       "version_minor": 0,
       "model_id": "a8dfa648664b45e9bb604fc0018c7837"
      }
     },
     "metadata": {},
     "output_type": "display_data"
    },
    {
     "data": {
      "text/plain": [
       "Creating parquet from Arrow format:   0%|          | 0/3 [00:00<?, ?ba/s]"
      ],
      "application/vnd.jupyter.widget-view+json": {
       "version_major": 2,
       "version_minor": 0,
       "model_id": "73dc3aeb6bc6450cba50c1c51069985f"
      }
     },
     "metadata": {},
     "output_type": "display_data"
    },
    {
     "data": {
      "text/plain": [
       "CommitInfo(commit_url='https://huggingface.co/datasets/chuuhtetnaing/myanmar-speech-dataset-openslr-80/commit/13edfa104c067f3fe68939b91130fccc929b6ff9', commit_message='Upload dataset', commit_description='', oid='13edfa104c067f3fe68939b91130fccc929b6ff9', pr_url=None, pr_revision=None, pr_num=None)"
      ]
     },
     "execution_count": 19,
     "metadata": {},
     "output_type": "execute_result"
    }
   ],
   "execution_count": 19
  },
  {
   "metadata": {},
   "cell_type": "code",
   "outputs": [],
   "execution_count": null,
   "source": "",
   "id": "eb8c105d3f5f400e"
  },
  {
   "metadata": {
    "ExecuteTime": {
     "end_time": "2024-07-28T05:43:56.257059Z",
     "start_time": "2024-07-28T05:43:56.244163Z"
    }
   },
   "cell_type": "code",
   "source": "",
   "id": "78f5a9c2dbb2f633",
   "outputs": [],
   "execution_count": 17
  }
 ],
 "metadata": {
  "kernelspec": {
   "display_name": "Python 3",
   "language": "python",
   "name": "python3"
  },
  "language_info": {
   "codemirror_mode": {
    "name": "ipython",
    "version": 2
   },
   "file_extension": ".py",
   "mimetype": "text/x-python",
   "name": "python",
   "nbconvert_exporter": "python",
   "pygments_lexer": "ipython2",
   "version": "2.7.6"
  }
 },
 "nbformat": 4,
 "nbformat_minor": 5
}
