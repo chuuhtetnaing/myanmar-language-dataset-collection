{
 "cells": [
  {
   "cell_type": "code",
   "id": "initial_id",
   "metadata": {
    "collapsed": true,
    "jupyter": {
     "is_executing": true
    }
   },
   "source": [
    "from datasets import load_dataset, concatenate_datasets, Features, Audio, Value, DatasetDict\n",
    "import librosa\n",
    "import numpy as np"
   ],
   "outputs": [],
   "execution_count": null
  },
  {
   "metadata": {},
   "cell_type": "markdown",
   "source": "# Load the Datasets",
   "id": "1a0eb0d9e3024da8"
  },
  {
   "cell_type": "code",
   "execution_count": 2,
   "id": "3df3bd8c",
   "metadata": {},
   "outputs": [],
   "source": [
    "openslr_ds = load_dataset(\"chuuhtetnaing/myanmar-speech-dataset-openslr-80\")\n",
    "fleurs_ds = load_dataset(\"chuuhtetnaing/myanmar-speech-dataset-google-fleurs\")"
   ]
  },
  {
   "cell_type": "code",
   "execution_count": 3,
   "id": "ad8ceeb5",
   "metadata": {},
   "outputs": [],
   "source": [
    "fleurs_ds = fleurs_ds.remove_columns([\"id\", \"num_samples\", \"path\", \"gender\", \"lang_id\", \"language\", \"lang_group_id\", \"transcription\"])\n",
    "fleurs_ds = fleurs_ds.rename_column(\"raw_transcription\", \"transcription\")"
   ]
  },
  {
   "cell_type": "code",
   "execution_count": 4,
   "id": "dc532e0b",
   "metadata": {},
   "outputs": [
    {
     "data": {
      "text/plain": [
       "{'audio': Audio(sampling_rate=16000, mono=True, decode=True, id=None),\n",
       " 'transcription': Value(dtype='string', id=None)}"
      ]
     },
     "execution_count": 4,
     "metadata": {},
     "output_type": "execute_result"
    }
   ],
   "source": [
    "fleurs_ds['train'].features"
   ]
  },
  {
   "cell_type": "code",
   "execution_count": 5,
   "id": "ec8965c9",
   "metadata": {},
   "outputs": [
    {
     "data": {
      "text/plain": [
       "{'audio': Audio(sampling_rate=None, mono=True, decode=True, id=None),\n",
       " 'transcription': Value(dtype='string', id=None)}"
      ]
     },
     "execution_count": 5,
     "metadata": {},
     "output_type": "execute_result"
    }
   ],
   "source": [
    "openslr_ds['train'].features"
   ]
  },
  {
   "cell_type": "code",
   "execution_count": null,
   "id": "902e323f",
   "metadata": {},
   "outputs": [],
   "source": []
  },
  {
   "metadata": {},
   "cell_type": "markdown",
   "source": "# Downsample the higher sampling rate data",
   "id": "d803e8dd50a3d715"
  },
  {
   "cell_type": "code",
   "execution_count": 6,
   "id": "31a390fe",
   "metadata": {},
   "outputs": [],
   "source": [
    "# Define the target features structure\n",
    "target_features = Features({\n",
    "    'audio': Audio(sampling_rate=16000),\n",
    "    'transcription': Value('string'),\n",
    "    'source': Value('string')\n",
    "})\n",
    "\n",
    "# Function to resample audio and ensure consistent feature structure\n",
    "def process_example(example, dataset_name):\n",
    "    # Get current audio\n",
    "    audio_array = example['audio']['array']\n",
    "    current_sr = example['audio']['sampling_rate']\n",
    "    \n",
    "    # Resample if needed (for openslr dataset)\n",
    "    if current_sr != 16000:\n",
    "        audio_array = librosa.resample(\n",
    "            y=np.array(audio_array, dtype=np.float32),\n",
    "            orig_sr=current_sr,\n",
    "            target_sr=16000\n",
    "        )\n",
    "    \n",
    "    # Create new example with consistent structure\n",
    "    return {\n",
    "        'audio': {'array': audio_array, 'sampling_rate': 16000},\n",
    "        'transcription': example['transcription'],\n",
    "        'source': dataset_name\n",
    "    }"
   ]
  },
  {
   "cell_type": "code",
   "execution_count": 8,
   "id": "2a1eec31",
   "metadata": {},
   "outputs": [
    {
     "data": {
      "application/vnd.jupyter.widget-view+json": {
       "model_id": "9777855fa6fb4bd79c8fc277ab9479fa",
       "version_major": 2,
       "version_minor": 0
      },
      "text/plain": [
       "Processing OpenSLR dataset (num_proc=10):   0%|          | 0/2277 [00:00<?, ? examples/s]"
      ]
     },
     "metadata": {},
     "output_type": "display_data"
    },
    {
     "data": {
      "application/vnd.jupyter.widget-view+json": {
       "model_id": "fa1dd008ed2747fe8832d21b41c23f3a",
       "version_major": 2,
       "version_minor": 0
      },
      "text/plain": [
       "Processing OpenSLR dataset (num_proc=10):   0%|          | 0/253 [00:00<?, ? examples/s]"
      ]
     },
     "metadata": {},
     "output_type": "display_data"
    },
    {
     "data": {
      "application/vnd.jupyter.widget-view+json": {
       "model_id": "1c7940917ba347c4aa38b910f3639458",
       "version_major": 2,
       "version_minor": 0
      },
      "text/plain": [
       "Processing FLEURS dataset:   0%|          | 0/3938 [00:00<?, ? examples/s]"
      ]
     },
     "metadata": {},
     "output_type": "display_data"
    },
    {
     "data": {
      "application/vnd.jupyter.widget-view+json": {
       "model_id": "536c74c8c5ab46c1b99d179d37ee5b16",
       "version_major": 2,
       "version_minor": 0
      },
      "text/plain": [
       "Processing FLEURS dataset:   0%|          | 0/384 [00:00<?, ? examples/s]"
      ]
     },
     "metadata": {},
     "output_type": "display_data"
    }
   ],
   "source": [
    "openslr_ds = openslr_ds.map(\n",
    "    lambda x: process_example(x, 'openslr'),\n",
    "    features=target_features,\n",
    "    desc=\"Processing OpenSLR dataset\",\n",
    "    num_proc=10\n",
    ")\n",
    "\n",
    "fleurs_ds = fleurs_ds.map(\n",
    "    lambda x: process_example(x, 'fleurs'),\n",
    "    features=target_features,\n",
    "    desc=\"Processing FLEURS dataset\"\n",
    ")"
   ]
  },
  {
   "metadata": {},
   "cell_type": "markdown",
   "source": "# Combine the Datasets",
   "id": "e8814948891f10bd"
  },
  {
   "cell_type": "code",
   "execution_count": 10,
   "id": "16ac1579",
   "metadata": {},
   "outputs": [],
   "source": [
    "combined_train_ds = concatenate_datasets([fleurs_ds['train'], openslr_ds['train']])\n",
    "combined_test_ds = concatenate_datasets([fleurs_ds['test'], openslr_ds['test']])"
   ]
  },
  {
   "cell_type": "code",
   "execution_count": 12,
   "id": "7b2bda81",
   "metadata": {},
   "outputs": [],
   "source": [
    "ds = DatasetDict({\n",
    "    'train': combined_train_ds,\n",
    "    'test': combined_test_ds\n",
    "})"
   ]
  },
  {
   "metadata": {},
   "cell_type": "markdown",
   "source": "# Upload to HuggingFace",
   "id": "e54db2900643825"
  },
  {
   "cell_type": "code",
   "execution_count": 13,
   "id": "5c6e788e",
   "metadata": {},
   "outputs": [
    {
     "data": {
      "application/vnd.jupyter.widget-view+json": {
       "model_id": "2e1d27a917714cadab2e960019824e0d",
       "version_major": 2,
       "version_minor": 0
      },
      "text/plain": [
       "Uploading the dataset shards:   0%|          | 0/5 [00:00<?, ?it/s]"
      ]
     },
     "metadata": {},
     "output_type": "display_data"
    },
    {
     "data": {
      "application/vnd.jupyter.widget-view+json": {
       "model_id": "841f64136a714885992365b9756bcf4e",
       "version_major": 2,
       "version_minor": 0
      },
      "text/plain": [
       "Map:   0%|          | 0/1243 [00:00<?, ? examples/s]"
      ]
     },
     "metadata": {},
     "output_type": "display_data"
    },
    {
     "data": {
      "application/vnd.jupyter.widget-view+json": {
       "model_id": "509d75d797fc4a028cc3d6cc2631f4fb",
       "version_major": 2,
       "version_minor": 0
      },
      "text/plain": [
       "Creating parquet from Arrow format:   0%|          | 0/13 [00:00<?, ?ba/s]"
      ]
     },
     "metadata": {},
     "output_type": "display_data"
    },
    {
     "data": {
      "application/vnd.jupyter.widget-view+json": {
       "model_id": "532c29bfc58a4483b32f5586d5cc6ad7",
       "version_major": 2,
       "version_minor": 0
      },
      "text/plain": [
       "Map:   0%|          | 0/1243 [00:00<?, ? examples/s]"
      ]
     },
     "metadata": {},
     "output_type": "display_data"
    },
    {
     "data": {
      "application/vnd.jupyter.widget-view+json": {
       "model_id": "fb492bf7b6334d23b861464254d9b99f",
       "version_major": 2,
       "version_minor": 0
      },
      "text/plain": [
       "Creating parquet from Arrow format:   0%|          | 0/13 [00:00<?, ?ba/s]"
      ]
     },
     "metadata": {},
     "output_type": "display_data"
    },
    {
     "data": {
      "application/vnd.jupyter.widget-view+json": {
       "model_id": "74d98fc21eb2473fb40301eea904281b",
       "version_major": 2,
       "version_minor": 0
      },
      "text/plain": [
       "Map:   0%|          | 0/1243 [00:00<?, ? examples/s]"
      ]
     },
     "metadata": {},
     "output_type": "display_data"
    },
    {
     "data": {
      "application/vnd.jupyter.widget-view+json": {
       "model_id": "1beb897df95e45c6b26ecbd6e4c516ac",
       "version_major": 2,
       "version_minor": 0
      },
      "text/plain": [
       "Creating parquet from Arrow format:   0%|          | 0/13 [00:00<?, ?ba/s]"
      ]
     },
     "metadata": {},
     "output_type": "display_data"
    },
    {
     "data": {
      "application/vnd.jupyter.widget-view+json": {
       "model_id": "bb5c34b4fdc944cb870a0d8b7619f4cf",
       "version_major": 2,
       "version_minor": 0
      },
      "text/plain": [
       "Map:   0%|          | 0/1243 [00:00<?, ? examples/s]"
      ]
     },
     "metadata": {},
     "output_type": "display_data"
    },
    {
     "data": {
      "application/vnd.jupyter.widget-view+json": {
       "model_id": "893e67c5fed947d2aae36527a52ebdde",
       "version_major": 2,
       "version_minor": 0
      },
      "text/plain": [
       "Creating parquet from Arrow format:   0%|          | 0/13 [00:00<?, ?ba/s]"
      ]
     },
     "metadata": {},
     "output_type": "display_data"
    },
    {
     "data": {
      "application/vnd.jupyter.widget-view+json": {
       "model_id": "fd1141630adf4491ac00e8922073cf2e",
       "version_major": 2,
       "version_minor": 0
      },
      "text/plain": [
       "Map:   0%|          | 0/1243 [00:00<?, ? examples/s]"
      ]
     },
     "metadata": {},
     "output_type": "display_data"
    },
    {
     "data": {
      "application/vnd.jupyter.widget-view+json": {
       "model_id": "93c2cd432369437c96b0ff14d63f59c8",
       "version_major": 2,
       "version_minor": 0
      },
      "text/plain": [
       "Creating parquet from Arrow format:   0%|          | 0/13 [00:00<?, ?ba/s]"
      ]
     },
     "metadata": {},
     "output_type": "display_data"
    },
    {
     "data": {
      "application/vnd.jupyter.widget-view+json": {
       "model_id": "9d31fa169aa1421fb4d656f542ab14f1",
       "version_major": 2,
       "version_minor": 0
      },
      "text/plain": [
       "Uploading the dataset shards:   0%|          | 0/1 [00:00<?, ?it/s]"
      ]
     },
     "metadata": {},
     "output_type": "display_data"
    },
    {
     "data": {
      "application/vnd.jupyter.widget-view+json": {
       "model_id": "ea2a33d8e8d540b59dd968e628b61d50",
       "version_major": 2,
       "version_minor": 0
      },
      "text/plain": [
       "Map:   0%|          | 0/637 [00:00<?, ? examples/s]"
      ]
     },
     "metadata": {},
     "output_type": "display_data"
    },
    {
     "data": {
      "application/vnd.jupyter.widget-view+json": {
       "model_id": "aac3a43be71f4b6fb6a32d1e4c4de3da",
       "version_major": 2,
       "version_minor": 0
      },
      "text/plain": [
       "Creating parquet from Arrow format:   0%|          | 0/7 [00:00<?, ?ba/s]"
      ]
     },
     "metadata": {},
     "output_type": "display_data"
    },
    {
     "data": {
      "text/plain": [
       "CommitInfo(commit_url='https://huggingface.co/datasets/chuuhtetnaing/myanmar-speech-dataset/commit/cbee81b64e0a9d26bcd4a5a8e0a5713ba4d77b99', commit_message='Upload dataset', commit_description='', oid='cbee81b64e0a9d26bcd4a5a8e0a5713ba4d77b99', pr_url=None, repo_url=RepoUrl('https://huggingface.co/datasets/chuuhtetnaing/myanmar-speech-dataset', endpoint='https://huggingface.co', repo_type='dataset', repo_id='chuuhtetnaing/myanmar-speech-dataset'), pr_revision=None, pr_num=None)"
      ]
     },
     "execution_count": 13,
     "metadata": {},
     "output_type": "execute_result"
    }
   ],
   "source": "ds.push_to_hub(\"chuuhtetnaing/myanmar-speech-dataset-for-asr\")"
  },
  {
   "cell_type": "code",
   "execution_count": null,
   "id": "9eca2bb9",
   "metadata": {},
   "outputs": [],
   "source": []
  },
  {
   "cell_type": "code",
   "execution_count": null,
   "id": "e21d3fe7",
   "metadata": {},
   "outputs": [],
   "source": []
  }
 ],
 "metadata": {
  "kernelspec": {
   "display_name": "Python 3 (ipykernel)",
   "language": "python",
   "name": "python3"
  },
  "language_info": {
   "codemirror_mode": {
    "name": "ipython",
    "version": 3
   },
   "file_extension": ".py",
   "mimetype": "text/x-python",
   "name": "python",
   "nbconvert_exporter": "python",
   "pygments_lexer": "ipython3",
   "version": "3.11.11"
  }
 },
 "nbformat": 4,
 "nbformat_minor": 5
}
