{
 "cells": [
  {
   "cell_type": "code",
   "execution_count": 1,
   "id": "b0824e45",
   "metadata": {},
   "outputs": [],
   "source": [
    "from datasets import load_dataset, DatasetDict, concatenate_datasets"
   ]
  },
  {
   "cell_type": "code",
   "execution_count": 2,
   "id": "5bacea61",
   "metadata": {},
   "outputs": [],
   "source": [
    "agriculture_ds = load_dataset(\"jojo-ai-mst/Myanmar-Agricutlure-1K\")\n",
    "mpox_ds = load_dataset(\"jojo-ai-mst/Mpox-Myanmar\")\n",
    "microbiology_ds = load_dataset(\"jojo-ai-mst/Burmese-Microbiology-1K\")\n",
    "aya_ds = load_dataset(\"chuuhtetnaing/myanmar-aya-dataset\")\n",
    "dhamma_ds = load_dataset(\"chuuhtetnaing/dhamma-question-answer-dataset\")"
   ]
  },
  {
   "cell_type": "code",
   "execution_count": 3,
   "id": "e69c641f",
   "metadata": {},
   "outputs": [
    {
     "data": {
      "text/plain": [
       "DatasetDict({\n",
       "    train: Dataset({\n",
       "        features: ['Unnamed: 0', 'Instruction', 'Output'],\n",
       "        num_rows: 1053\n",
       "    })\n",
       "})"
      ]
     },
     "execution_count": 3,
     "metadata": {},
     "output_type": "execute_result"
    }
   ],
   "source": [
    "agriculture_ds"
   ]
  },
  {
   "cell_type": "code",
   "execution_count": 4,
   "id": "ac28f83e",
   "metadata": {},
   "outputs": [
    {
     "data": {
      "text/plain": [
       "DatasetDict({\n",
       "    train: Dataset({\n",
       "        features: ['Question', 'Answer', 'Metadata'],\n",
       "        num_rows: 99\n",
       "    })\n",
       "})"
      ]
     },
     "execution_count": 4,
     "metadata": {},
     "output_type": "execute_result"
    }
   ],
   "source": [
    "mpox_ds"
   ]
  },
  {
   "cell_type": "code",
   "execution_count": 5,
   "id": "92e07103",
   "metadata": {},
   "outputs": [
    {
     "data": {
      "text/plain": [
       "DatasetDict({\n",
       "    train: Dataset({\n",
       "        features: ['Unnamed: 0', 'Instruction', 'Output'],\n",
       "        num_rows: 1263\n",
       "    })\n",
       "})"
      ]
     },
     "execution_count": 5,
     "metadata": {},
     "output_type": "execute_result"
    }
   ],
   "source": [
    "microbiology_ds"
   ]
  },
  {
   "cell_type": "code",
   "execution_count": 6,
   "id": "bdeeadf4",
   "metadata": {},
   "outputs": [
    {
     "data": {
      "text/plain": [
       "DatasetDict({\n",
       "    train: Dataset({\n",
       "        features: ['inputs', 'targets', 'language', 'language_code', 'annotation_type', 'user_id'],\n",
       "        num_rows: 472\n",
       "    })\n",
       "})"
      ]
     },
     "execution_count": 6,
     "metadata": {},
     "output_type": "execute_result"
    }
   ],
   "source": [
    "aya_ds"
   ]
  },
  {
   "cell_type": "code",
   "execution_count": 7,
   "id": "5da9c514",
   "metadata": {},
   "outputs": [
    {
     "data": {
      "text/plain": [
       "DatasetDict({\n",
       "    train: Dataset({\n",
       "        features: ['question', 'answer', 'source'],\n",
       "        num_rows: 14365\n",
       "    })\n",
       "})"
      ]
     },
     "execution_count": 7,
     "metadata": {},
     "output_type": "execute_result"
    }
   ],
   "source": [
    "dhamma_ds"
   ]
  },
  {
   "cell_type": "markdown",
   "id": "9885f33f",
   "metadata": {},
   "source": [
    "# Agriculture Dataset"
   ]
  },
  {
   "cell_type": "markdown",
   "id": "16ea88dd",
   "metadata": {},
   "source": [
    "## Before"
   ]
  },
  {
   "cell_type": "code",
   "execution_count": 8,
   "id": "e8f3e20b",
   "metadata": {},
   "outputs": [
    {
     "data": {
      "text/plain": [
       "DatasetDict({\n",
       "    train: Dataset({\n",
       "        features: ['Unnamed: 0', 'Instruction', 'Output'],\n",
       "        num_rows: 1053\n",
       "    })\n",
       "})"
      ]
     },
     "execution_count": 8,
     "metadata": {},
     "output_type": "execute_result"
    }
   ],
   "source": [
    "agriculture_ds"
   ]
  },
  {
   "cell_type": "code",
   "execution_count": 9,
   "id": "7fb66f2e",
   "metadata": {},
   "outputs": [],
   "source": [
    "agriculture_ds = agriculture_ds.rename_columns({\"Instruction\": \"inputs\", \"Output\": \"targets\"})\n",
    "agriculture_ds = agriculture_ds.remove_columns(\"Unnamed: 0\")\n",
    "agriculture_ds[\"train\"] = agriculture_ds[\"train\"].add_column(\n",
    "    \"source\", [\"jojo-ai-mst/Myanmar-Agricutlure-1K\"] * len(agriculture_ds[\"train\"])\n",
    ")"
   ]
  },
  {
   "cell_type": "markdown",
   "id": "a76ea2c0",
   "metadata": {},
   "source": [
    "## After"
   ]
  },
  {
   "cell_type": "code",
   "execution_count": 10,
   "id": "8b22765a",
   "metadata": {},
   "outputs": [
    {
     "data": {
      "text/plain": [
       "DatasetDict({\n",
       "    train: Dataset({\n",
       "        features: ['inputs', 'targets', 'source'],\n",
       "        num_rows: 1053\n",
       "    })\n",
       "})"
      ]
     },
     "execution_count": 10,
     "metadata": {},
     "output_type": "execute_result"
    }
   ],
   "source": [
    "agriculture_ds"
   ]
  },
  {
   "cell_type": "markdown",
   "id": "6d0f5310",
   "metadata": {},
   "source": [
    "# MonkeyPox Datset"
   ]
  },
  {
   "cell_type": "markdown",
   "id": "3dd0e0a3",
   "metadata": {},
   "source": [
    "## Before"
   ]
  },
  {
   "cell_type": "code",
   "execution_count": 11,
   "id": "e5779f79",
   "metadata": {},
   "outputs": [
    {
     "data": {
      "text/plain": [
       "DatasetDict({\n",
       "    train: Dataset({\n",
       "        features: ['Question', 'Answer', 'Metadata'],\n",
       "        num_rows: 99\n",
       "    })\n",
       "})"
      ]
     },
     "execution_count": 11,
     "metadata": {},
     "output_type": "execute_result"
    }
   ],
   "source": [
    "mpox_ds"
   ]
  },
  {
   "cell_type": "code",
   "execution_count": 12,
   "id": "25cae877",
   "metadata": {},
   "outputs": [],
   "source": [
    "mpox_ds = mpox_ds.rename_columns({\"Question\": \"inputs\", \"Answer\": \"targets\"})\n",
    "mpox_ds = mpox_ds.remove_columns(\"Metadata\")\n",
    "mpox_ds[\"train\"] = mpox_ds[\"train\"].add_column(\n",
    "    \"source\", [\"jojo-ai-mst/Mpox-Myanmar\"] * len(mpox_ds[\"train\"])\n",
    ")"
   ]
  },
  {
   "cell_type": "markdown",
   "id": "6a0e7a98",
   "metadata": {},
   "source": [
    "## After"
   ]
  },
  {
   "cell_type": "code",
   "execution_count": 13,
   "id": "20f8cbcc",
   "metadata": {},
   "outputs": [
    {
     "data": {
      "text/plain": [
       "DatasetDict({\n",
       "    train: Dataset({\n",
       "        features: ['inputs', 'targets', 'source'],\n",
       "        num_rows: 99\n",
       "    })\n",
       "})"
      ]
     },
     "execution_count": 13,
     "metadata": {},
     "output_type": "execute_result"
    }
   ],
   "source": [
    "mpox_ds"
   ]
  },
  {
   "cell_type": "markdown",
   "id": "ab2d927d",
   "metadata": {},
   "source": [
    "# Microbiology Dataset"
   ]
  },
  {
   "cell_type": "markdown",
   "id": "9859e8c0",
   "metadata": {},
   "source": [
    "## Before"
   ]
  },
  {
   "cell_type": "code",
   "execution_count": 14,
   "id": "1779cc23",
   "metadata": {},
   "outputs": [
    {
     "data": {
      "text/plain": [
       "DatasetDict({\n",
       "    train: Dataset({\n",
       "        features: ['Unnamed: 0', 'Instruction', 'Output'],\n",
       "        num_rows: 1263\n",
       "    })\n",
       "})"
      ]
     },
     "execution_count": 14,
     "metadata": {},
     "output_type": "execute_result"
    }
   ],
   "source": [
    "microbiology_ds"
   ]
  },
  {
   "cell_type": "markdown",
   "id": "27556405",
   "metadata": {},
   "source": [
    "## After"
   ]
  },
  {
   "cell_type": "code",
   "execution_count": 15,
   "id": "f3249443",
   "metadata": {},
   "outputs": [],
   "source": [
    "microbiology_ds = microbiology_ds.rename_columns({\"Instruction\": \"inputs\", \"Output\": \"targets\"})\n",
    "microbiology_ds = microbiology_ds.remove_columns(\"Unnamed: 0\")\n",
    "microbiology_ds[\"train\"] = microbiology_ds[\"train\"].add_column(\n",
    "    \"source\", [\"jojo-ai-mst/Burmese-Microbiology-1K\"] * len(microbiology_ds[\"train\"])\n",
    ")"
   ]
  },
  {
   "cell_type": "code",
   "execution_count": 16,
   "id": "65416809",
   "metadata": {},
   "outputs": [
    {
     "data": {
      "text/plain": [
       "DatasetDict({\n",
       "    train: Dataset({\n",
       "        features: ['inputs', 'targets', 'source'],\n",
       "        num_rows: 1263\n",
       "    })\n",
       "})"
      ]
     },
     "execution_count": 16,
     "metadata": {},
     "output_type": "execute_result"
    }
   ],
   "source": [
    "microbiology_ds"
   ]
  },
  {
   "cell_type": "code",
   "execution_count": null,
   "id": "2927f613",
   "metadata": {},
   "outputs": [],
   "source": []
  },
  {
   "cell_type": "code",
   "execution_count": null,
   "id": "ac731a2d",
   "metadata": {},
   "outputs": [],
   "source": []
  },
  {
   "cell_type": "code",
   "execution_count": null,
   "id": "b4dacac6",
   "metadata": {},
   "outputs": [],
   "source": []
  },
  {
   "cell_type": "code",
   "execution_count": null,
   "id": "e7094d2b",
   "metadata": {},
   "outputs": [],
   "source": []
  },
  {
   "cell_type": "code",
   "execution_count": null,
   "id": "f463c0f2",
   "metadata": {},
   "outputs": [],
   "source": []
  },
  {
   "cell_type": "markdown",
   "id": "f67d545d",
   "metadata": {},
   "source": [
    "# Aya Dataset"
   ]
  },
  {
   "cell_type": "markdown",
   "id": "b922a59e",
   "metadata": {},
   "source": [
    "## Before"
   ]
  },
  {
   "cell_type": "code",
   "execution_count": 17,
   "id": "612a4782",
   "metadata": {},
   "outputs": [
    {
     "data": {
      "text/plain": [
       "DatasetDict({\n",
       "    train: Dataset({\n",
       "        features: ['inputs', 'targets', 'language', 'language_code', 'annotation_type', 'user_id'],\n",
       "        num_rows: 472\n",
       "    })\n",
       "})"
      ]
     },
     "execution_count": 17,
     "metadata": {},
     "output_type": "execute_result"
    }
   ],
   "source": [
    "aya_ds"
   ]
  },
  {
   "cell_type": "markdown",
   "id": "c01e497c",
   "metadata": {},
   "source": [
    "## After"
   ]
  },
  {
   "cell_type": "code",
   "execution_count": 18,
   "id": "206ab645",
   "metadata": {},
   "outputs": [],
   "source": [
    "aya_ds = aya_ds.remove_columns([\"language\", \"language_code\", \"annotation_type\", \"user_id\"])\n",
    "aya_ds[\"train\"] = aya_ds[\"train\"].add_column(\n",
    "    \"source\", [\"chuuhtetnaing/myanmar-aya-dataset\"] * len(aya_ds[\"train\"])\n",
    ")"
   ]
  },
  {
   "cell_type": "code",
   "execution_count": 19,
   "id": "dd1961ca",
   "metadata": {},
   "outputs": [
    {
     "data": {
      "text/plain": [
       "DatasetDict({\n",
       "    train: Dataset({\n",
       "        features: ['inputs', 'targets', 'source'],\n",
       "        num_rows: 472\n",
       "    })\n",
       "})"
      ]
     },
     "execution_count": 19,
     "metadata": {},
     "output_type": "execute_result"
    }
   ],
   "source": [
    "aya_ds"
   ]
  },
  {
   "cell_type": "code",
   "execution_count": null,
   "id": "2f8198b2",
   "metadata": {},
   "outputs": [],
   "source": []
  },
  {
   "cell_type": "markdown",
   "id": "b7cb1f90",
   "metadata": {},
   "source": [
    "# Dhamma Dataset"
   ]
  },
  {
   "cell_type": "markdown",
   "id": "2a29d878",
   "metadata": {},
   "source": [
    "## Before"
   ]
  },
  {
   "cell_type": "code",
   "execution_count": 20,
   "id": "ffcfc006",
   "metadata": {},
   "outputs": [
    {
     "data": {
      "text/plain": [
       "DatasetDict({\n",
       "    train: Dataset({\n",
       "        features: ['question', 'answer', 'source'],\n",
       "        num_rows: 14365\n",
       "    })\n",
       "})"
      ]
     },
     "execution_count": 20,
     "metadata": {},
     "output_type": "execute_result"
    }
   ],
   "source": [
    "dhamma_ds"
   ]
  },
  {
   "cell_type": "markdown",
   "id": "d0f97111",
   "metadata": {},
   "source": [
    "## After"
   ]
  },
  {
   "cell_type": "code",
   "execution_count": 21,
   "id": "2ea24eec",
   "metadata": {},
   "outputs": [],
   "source": [
    "dhamma_ds = dhamma_ds.rename_columns({\"question\": \"inputs\", \"answer\": \"targets\"})\n",
    "dhamma_ds = dhamma_ds.remove_columns(\"source\")\n",
    "dhamma_ds[\"train\"] = dhamma_ds[\"train\"].add_column(\n",
    "    \"source\", [\"chuuhtetnaing/dhamma-question-answer-dataset\"] * len(dhamma_ds[\"train\"])\n",
    ")"
   ]
  },
  {
   "cell_type": "code",
   "execution_count": 22,
   "id": "ef5bafb5",
   "metadata": {},
   "outputs": [
    {
     "data": {
      "text/plain": [
       "DatasetDict({\n",
       "    train: Dataset({\n",
       "        features: ['inputs', 'targets', 'source'],\n",
       "        num_rows: 14365\n",
       "    })\n",
       "})"
      ]
     },
     "execution_count": 22,
     "metadata": {},
     "output_type": "execute_result"
    }
   ],
   "source": [
    "dhamma_ds"
   ]
  },
  {
   "cell_type": "code",
   "execution_count": null,
   "id": "91185e85",
   "metadata": {},
   "outputs": [],
   "source": []
  },
  {
   "cell_type": "markdown",
   "id": "04114de6",
   "metadata": {},
   "source": [
    "# Combine Dataset and Upload to HuggingFace"
   ]
  },
  {
   "cell_type": "code",
   "execution_count": 25,
   "id": "1842499f",
   "metadata": {},
   "outputs": [],
   "source": [
    "ds = DatasetDict({\n",
    "    \"train\": concatenate_datasets(\n",
    "        [\n",
    "            agriculture_ds[\"train\"],\n",
    "            mpox_ds[\"train\"],\n",
    "            microbiology_ds[\"train\"],\n",
    "            aya_ds[\"train\"],\n",
    "            dhamma_ds[\"train\"]\n",
    "        ]\n",
    "    ),\n",
    "})"
   ]
  },
  {
   "cell_type": "code",
   "execution_count": 26,
   "id": "901c51f1",
   "metadata": {},
   "outputs": [
    {
     "data": {
      "text/plain": [
       "DatasetDict({\n",
       "    train: Dataset({\n",
       "        features: ['inputs', 'targets', 'source'],\n",
       "        num_rows: 17252\n",
       "    })\n",
       "})"
      ]
     },
     "execution_count": 26,
     "metadata": {},
     "output_type": "execute_result"
    }
   ],
   "source": [
    "ds"
   ]
  },
  {
   "cell_type": "code",
   "execution_count": 28,
   "id": "b5a4215b",
   "metadata": {},
   "outputs": [
    {
     "data": {
      "application/vnd.jupyter.widget-view+json": {
       "model_id": "9f4401d5977946e28754b8ecc3c91ae0",
       "version_major": 2,
       "version_minor": 0
      },
      "text/plain": [
       "Uploading the dataset shards:   0%|          | 0/1 [00:00<?, ?it/s]"
      ]
     },
     "metadata": {},
     "output_type": "display_data"
    },
    {
     "data": {
      "application/vnd.jupyter.widget-view+json": {
       "model_id": "900c339eafcb4f4f8e41547d42f06de5",
       "version_major": 2,
       "version_minor": 0
      },
      "text/plain": [
       "Creating parquet from Arrow format:   0%|          | 0/18 [00:00<?, ?ba/s]"
      ]
     },
     "metadata": {},
     "output_type": "display_data"
    },
    {
     "data": {
      "text/plain": [
       "CommitInfo(commit_url='https://huggingface.co/datasets/chuuhtetnaing/myanmar-instruction-tuning-dataset/commit/899d5711e1d7c6e7c1c5f6f3f7a54551f66ad18d', commit_message='Upload dataset', commit_description='', oid='899d5711e1d7c6e7c1c5f6f3f7a54551f66ad18d', pr_url=None, repo_url=RepoUrl('https://huggingface.co/datasets/chuuhtetnaing/myanmar-instruction-tuning-dataset', endpoint='https://huggingface.co', repo_type='dataset', repo_id='chuuhtetnaing/myanmar-instruction-tuning-dataset'), pr_revision=None, pr_num=None)"
      ]
     },
     "execution_count": 28,
     "metadata": {},
     "output_type": "execute_result"
    }
   ],
   "source": [
    "ds.push_to_hub(\"chuuhtetnaing/myanmar-instruction-tuning-dataset\")"
   ]
  },
  {
   "cell_type": "code",
   "execution_count": null,
   "id": "4a97cdad",
   "metadata": {},
   "outputs": [],
   "source": []
  }
 ],
 "metadata": {
  "kernelspec": {
   "display_name": "Python 3 (ipykernel)",
   "language": "python",
   "name": "python3"
  },
  "language_info": {
   "codemirror_mode": {
    "name": "ipython",
    "version": 3
   },
   "file_extension": ".py",
   "mimetype": "text/x-python",
   "name": "python",
   "nbconvert_exporter": "python",
   "pygments_lexer": "ipython3",
   "version": "3.11.11"
  }
 },
 "nbformat": 4,
 "nbformat_minor": 5
}
