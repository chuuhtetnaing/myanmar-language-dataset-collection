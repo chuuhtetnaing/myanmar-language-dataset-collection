{
 "cells": [
  {
   "cell_type": "code",
   "id": "initial_id",
   "metadata": {
    "collapsed": true,
    "ExecuteTime": {
     "end_time": "2025-04-12T07:24:33.424660Z",
     "start_time": "2025-04-12T07:24:32.323249Z"
    }
   },
   "source": [
    "from datasets import load_dataset\n",
    "from icu import Transliterator\n",
    "from datasets import concatenate_datasets\n",
    "from myanmartools import ZawgyiDetector"
   ],
   "outputs": [],
   "execution_count": 1
  },
  {
   "metadata": {},
   "cell_type": "markdown",
   "source": "# Load the Original C4 Dataset",
   "id": "8e0f3d4c1bb3cd79"
  },
  {
   "metadata": {
    "ExecuteTime": {
     "end_time": "2025-04-12T07:28:00.526854Z",
     "start_time": "2025-04-12T07:24:33.578726Z"
    }
   },
   "cell_type": "code",
   "source": [
    "my_dataset = load_dataset(\"statmt/cc100\", \"my\", trust_remote_code=True)\n",
    "my_zaw_dataset = load_dataset(\"statmt/cc100\", \"my_zaw\", trust_remote_code=True)"
   ],
   "id": "2522cea8017389d6",
   "outputs": [
    {
     "data": {
      "text/plain": [
       "Downloading data:   0%|          | 0.00/48.0M [00:00<?, ?B/s]"
      ],
      "application/vnd.jupyter.widget-view+json": {
       "version_major": 2,
       "version_minor": 0,
       "model_id": "64cbb2b11ee74cb996d4e81f75e58c4e"
      }
     },
     "metadata": {},
     "output_type": "display_data"
    },
    {
     "data": {
      "text/plain": [
       "Generating train split: 0 examples [00:00, ? examples/s]"
      ],
      "application/vnd.jupyter.widget-view+json": {
       "version_major": 2,
       "version_minor": 0,
       "model_id": "54fbc858e2b9442a8820468ba92f306a"
      }
     },
     "metadata": {},
     "output_type": "display_data"
    },
    {
     "data": {
      "text/plain": [
       "Downloading data:   0%|          | 0.00/186M [00:00<?, ?B/s]"
      ],
      "application/vnd.jupyter.widget-view+json": {
       "version_major": 2,
       "version_minor": 0,
       "model_id": "5afdb1769c3b4a688088e02ad0cefa40"
      }
     },
     "metadata": {},
     "output_type": "display_data"
    },
    {
     "data": {
      "text/plain": [
       "Generating train split: 0 examples [00:00, ? examples/s]"
      ],
      "application/vnd.jupyter.widget-view+json": {
       "version_major": 2,
       "version_minor": 0,
       "model_id": "cf6628024f1444fab57a8bcfd63f803c"
      }
     },
     "metadata": {},
     "output_type": "display_data"
    }
   ],
   "execution_count": 2
  },
  {
   "metadata": {
    "ExecuteTime": {
     "end_time": "2025-04-12T07:28:14.409516Z",
     "start_time": "2025-04-12T07:28:14.401178Z"
    }
   },
   "cell_type": "code",
   "source": "my_dataset",
   "id": "9ffae2f281fb1c85",
   "outputs": [
    {
     "data": {
      "text/plain": [
       "DatasetDict({\n",
       "    train: Dataset({\n",
       "        features: ['id', 'text'],\n",
       "        num_rows: 2207994\n",
       "    })\n",
       "})"
      ]
     },
     "execution_count": 3,
     "metadata": {},
     "output_type": "execute_result"
    }
   ],
   "execution_count": 3
  },
  {
   "metadata": {
    "ExecuteTime": {
     "end_time": "2025-04-12T07:28:35.999701Z",
     "start_time": "2025-04-12T07:28:35.992108Z"
    }
   },
   "cell_type": "code",
   "source": "my_dataset['train'][0]",
   "id": "858d33b5670c902a",
   "outputs": [
    {
     "data": {
      "text/plain": [
       "{'id': '0', 'text': 'အပိုင်း ၁ သင်ခန်းစာ ၃ ကုဒ်လျှော့ရေးပါ\\n'}"
      ]
     },
     "execution_count": 6,
     "metadata": {},
     "output_type": "execute_result"
    }
   ],
   "execution_count": 6
  },
  {
   "metadata": {
    "ExecuteTime": {
     "end_time": "2025-04-12T07:28:17.695372Z",
     "start_time": "2025-04-12T07:28:17.687562Z"
    }
   },
   "cell_type": "code",
   "source": "my_zaw_dataset",
   "id": "aefcaead6979c3b5",
   "outputs": [
    {
     "data": {
      "text/plain": [
       "DatasetDict({\n",
       "    train: Dataset({\n",
       "        features: ['id', 'text'],\n",
       "        num_rows: 11516761\n",
       "    })\n",
       "})"
      ]
     },
     "execution_count": 4,
     "metadata": {},
     "output_type": "execute_result"
    }
   ],
   "execution_count": 4
  },
  {
   "metadata": {
    "ExecuteTime": {
     "end_time": "2025-04-12T07:28:45.168629Z",
     "start_time": "2025-04-12T07:28:45.162319Z"
    }
   },
   "cell_type": "code",
   "source": "my_zaw_dataset['train'][0]",
   "id": "94f822f1093f25d5",
   "outputs": [
    {
     "data": {
      "text/plain": [
       "{'id': '0', 'text': 'မည္သည္႔အေၾကာင္းအရာကိုမဆို ၀င္ေရာက္ ေျပာဆို ႏုိင္ပါသည္။\\n'}"
      ]
     },
     "execution_count": 7,
     "metadata": {},
     "output_type": "execute_result"
    }
   ],
   "execution_count": 7
  },
  {
   "metadata": {},
   "cell_type": "markdown",
   "source": "# Example Convertion from Zawgyi to Unicode",
   "id": "89aa7b5c6f56b8ce"
  },
  {
   "metadata": {
    "ExecuteTime": {
     "end_time": "2025-04-12T07:52:27.274006Z",
     "start_time": "2025-04-12T07:52:27.254703Z"
    }
   },
   "cell_type": "code",
   "source": [
    "detector = ZawgyiDetector()\n",
    "converter = Transliterator.createInstance('Zawgyi-my')\n",
    "\n",
    "original_text = my_zaw_dataset['train'][0]['text']\n",
    "score = detector.get_zawgyi_probability(original_text)\n",
    "\n",
    "print(\"Original Text:\", original_text)\n",
    "\n",
    "if score > 0.5:\n",
    "    converted_text = converter.transliterate(original_text)\n",
    "    print()\n",
    "    print(\"Score:\", score)\n",
    "    print()\n",
    "    print(\"Converted Text:\", converted_text)"
   ],
   "id": "1731302609fb0a58",
   "outputs": [
    {
     "name": "stdout",
     "output_type": "stream",
     "text": [
      "Original Text: မည္သည္႔အေၾကာင္းအရာကိုမဆို ၀င္ေရာက္ ေျပာဆို ႏုိင္ပါသည္။\n",
      "\n",
      "\n",
      "Score: 1.0\n",
      "\n",
      "Converted Text: မည်သည့်အကြောင်းအရာကိုမဆို ၀င်ရောက် ပြောဆို နိုင်ပါသည်။\n",
      "\n"
     ]
    }
   ],
   "execution_count": 9
  },
  {
   "metadata": {},
   "cell_type": "markdown",
   "source": "# Convert the Whole Dataset from Zawgyi to Unicode",
   "id": "2e0d8de7250b1cf"
  },
  {
   "metadata": {
    "ExecuteTime": {
     "end_time": "2025-04-12T07:53:21.682230Z",
     "start_time": "2025-04-12T07:53:21.676867Z"
    }
   },
   "cell_type": "code",
   "source": [
    "def zawgyi_to_unicode_converter(examples):\n",
    "    detector = ZawgyiDetector()\n",
    "    converter = Transliterator.createInstance('Zawgyi-my')\n",
    "\n",
    "    texts = examples['text']\n",
    "    converted_texts = []\n",
    "\n",
    "    for text in texts:\n",
    "        score = detector.get_zawgyi_probability(text)\n",
    "        if score > 0.5:\n",
    "            text = converter.transliterate(text)\n",
    "\n",
    "        converted_texts.append(text)\n",
    "\n",
    "    examples['text'] = converted_texts\n",
    "    return examples"
   ],
   "id": "c829c9c327c11127",
   "outputs": [],
   "execution_count": 10
  },
  {
   "metadata": {
    "ExecuteTime": {
     "end_time": "2025-04-12T07:57:20.342118Z",
     "start_time": "2025-04-12T07:53:42.215656Z"
    }
   },
   "cell_type": "code",
   "source": [
    "my_unicode_dataset = my_zaw_dataset['train'].map(\n",
    "    zawgyi_to_unicode_converter,\n",
    "    batched=True,\n",
    "    batch_size=100,\n",
    "    num_proc=10\n",
    ")"
   ],
   "id": "84e14ea46a764671",
   "outputs": [
    {
     "data": {
      "text/plain": [
       "Map (num_proc=10):   0%|          | 0/11516761 [00:00<?, ? examples/s]"
      ],
      "application/vnd.jupyter.widget-view+json": {
       "version_major": 2,
       "version_minor": 0,
       "model_id": "dfeff43e38ac4f3dae259341d1918bc7"
      }
     },
     "metadata": {},
     "output_type": "display_data"
    }
   ],
   "execution_count": 12
  },
  {
   "metadata": {},
   "cell_type": "code",
   "outputs": [],
   "execution_count": null,
   "source": "",
   "id": "b5bc5b2208cd64ad"
  },
  {
   "metadata": {},
   "cell_type": "markdown",
   "source": "# Combine Original Unicode Dataset and Converted Unicode Dataset",
   "id": "a8dfd0b693311cd2"
  },
  {
   "metadata": {
    "ExecuteTime": {
     "end_time": "2025-04-12T08:02:42.395507Z",
     "start_time": "2025-04-12T08:02:42.064042Z"
    }
   },
   "cell_type": "code",
   "source": [
    "cc100_dataset = concatenate_datasets([my_dataset['train'], my_unicode_dataset])\n",
    "print(f\"Combined dataset has {len(cc100_dataset)} examples\")"
   ],
   "id": "b2c45d425a40962e",
   "outputs": [
    {
     "name": "stdout",
     "output_type": "stream",
     "text": [
      "Combined dataset has 13724755 examples\n"
     ]
    }
   ],
   "execution_count": 23
  },
  {
   "metadata": {
    "ExecuteTime": {
     "end_time": "2025-04-12T08:03:32.682366Z",
     "start_time": "2025-04-12T08:03:32.525366Z"
    }
   },
   "cell_type": "code",
   "source": "cc100_dataset = cc100_dataset.remove_columns(\"id\")",
   "id": "3c340e49a89dec57",
   "outputs": [],
   "execution_count": 27
  },
  {
   "metadata": {},
   "cell_type": "markdown",
   "source": "# Upload to Huggingface",
   "id": "ab3301917dab5c4c"
  },
  {
   "metadata": {
    "ExecuteTime": {
     "end_time": "2025-04-12T08:05:44.274335Z",
     "start_time": "2025-04-12T08:05:41.996353Z"
    }
   },
   "cell_type": "code",
   "source": "cc100_dataset = cc100_dataset.train_test_split(test_size=0.1, seed=42)",
   "id": "15b7cc9c36147062",
   "outputs": [],
   "execution_count": 32
  },
  {
   "metadata": {
    "ExecuteTime": {
     "end_time": "2025-04-12T08:08:07.407003Z",
     "start_time": "2025-04-12T08:05:45.872944Z"
    }
   },
   "cell_type": "code",
   "source": "cc100_dataset.push_to_hub(\"chuuhtetnaing/myanmar-cc100-dataset\")",
   "id": "44a7aca67c337681",
   "outputs": [
    {
     "data": {
      "text/plain": [
       "Uploading the dataset shards:   0%|          | 0/5 [00:00<?, ?it/s]"
      ],
      "application/vnd.jupyter.widget-view+json": {
       "version_major": 2,
       "version_minor": 0,
       "model_id": "3ea489ef10e141e6bbffdb3bb6f62552"
      }
     },
     "metadata": {},
     "output_type": "display_data"
    },
    {
     "data": {
      "text/plain": [
       "Creating parquet from Arrow format:   0%|          | 0/2471 [00:00<?, ?ba/s]"
      ],
      "application/vnd.jupyter.widget-view+json": {
       "version_major": 2,
       "version_minor": 0,
       "model_id": "0e5d9fc24615447f8c65b6b7c75019f2"
      }
     },
     "metadata": {},
     "output_type": "display_data"
    },
    {
     "data": {
      "text/plain": [
       "Creating parquet from Arrow format:   0%|          | 0/2471 [00:00<?, ?ba/s]"
      ],
      "application/vnd.jupyter.widget-view+json": {
       "version_major": 2,
       "version_minor": 0,
       "model_id": "c319694dec9d4e22b271d0e195c16b3e"
      }
     },
     "metadata": {},
     "output_type": "display_data"
    },
    {
     "data": {
      "text/plain": [
       "Creating parquet from Arrow format:   0%|          | 0/2471 [00:00<?, ?ba/s]"
      ],
      "application/vnd.jupyter.widget-view+json": {
       "version_major": 2,
       "version_minor": 0,
       "model_id": "fc541bbde552477d97bd12e9f06b7522"
      }
     },
     "metadata": {},
     "output_type": "display_data"
    },
    {
     "data": {
      "text/plain": [
       "Creating parquet from Arrow format:   0%|          | 0/2471 [00:00<?, ?ba/s]"
      ],
      "application/vnd.jupyter.widget-view+json": {
       "version_major": 2,
       "version_minor": 0,
       "model_id": "e8a5a2bf169a446bab3c0c25fea2b32b"
      }
     },
     "metadata": {},
     "output_type": "display_data"
    },
    {
     "data": {
      "text/plain": [
       "Creating parquet from Arrow format:   0%|          | 0/2471 [00:00<?, ?ba/s]"
      ],
      "application/vnd.jupyter.widget-view+json": {
       "version_major": 2,
       "version_minor": 0,
       "model_id": "7745180d1242416daf9be0b7c83796bb"
      }
     },
     "metadata": {},
     "output_type": "display_data"
    },
    {
     "data": {
      "text/plain": [
       "Uploading the dataset shards:   0%|          | 0/1 [00:00<?, ?it/s]"
      ],
      "application/vnd.jupyter.widget-view+json": {
       "version_major": 2,
       "version_minor": 0,
       "model_id": "959f7cf2661b4a09bd1ac8b23346b19b"
      }
     },
     "metadata": {},
     "output_type": "display_data"
    },
    {
     "data": {
      "text/plain": [
       "Creating parquet from Arrow format:   0%|          | 0/1373 [00:00<?, ?ba/s]"
      ],
      "application/vnd.jupyter.widget-view+json": {
       "version_major": 2,
       "version_minor": 0,
       "model_id": "4fe4cb6f790d4bcd87cd6af32ae9100c"
      }
     },
     "metadata": {},
     "output_type": "display_data"
    },
    {
     "data": {
      "text/plain": [
       "CommitInfo(commit_url='https://huggingface.co/datasets/chuuhtetnaing/myanmar-cc100-dataset/commit/50e9383b0bcfec0847df1ae921b0254680bea452', commit_message='Upload dataset', commit_description='', oid='50e9383b0bcfec0847df1ae921b0254680bea452', pr_url=None, repo_url=RepoUrl('https://huggingface.co/datasets/chuuhtetnaing/myanmar-cc100-dataset', endpoint='https://huggingface.co', repo_type='dataset', repo_id='chuuhtetnaing/myanmar-cc100-dataset'), pr_revision=None, pr_num=None)"
      ]
     },
     "execution_count": 33,
     "metadata": {},
     "output_type": "execute_result"
    }
   ],
   "execution_count": 33
  },
  {
   "metadata": {},
   "cell_type": "code",
   "outputs": [],
   "execution_count": null,
   "source": "",
   "id": "41976efb3efcad94"
  }
 ],
 "metadata": {
  "kernelspec": {
   "display_name": "Python 3",
   "language": "python",
   "name": "python3"
  },
  "language_info": {
   "codemirror_mode": {
    "name": "ipython",
    "version": 2
   },
   "file_extension": ".py",
   "mimetype": "text/x-python",
   "name": "python",
   "nbconvert_exporter": "python",
   "pygments_lexer": "ipython2",
   "version": "2.7.6"
  }
 },
 "nbformat": 4,
 "nbformat_minor": 5
}
