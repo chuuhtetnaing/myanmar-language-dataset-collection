{
 "cells": [
  {
   "cell_type": "code",
   "id": "initial_id",
   "metadata": {
    "collapsed": true,
    "ExecuteTime": {
     "end_time": "2025-04-12T06:08:14.986Z",
     "start_time": "2025-04-12T06:08:14.546322Z"
    }
   },
   "source": [
    "from datasets import load_dataset\n",
    "from icu import Transliterator\n",
    "from datasets import concatenate_datasets\n",
    "from myanmartools import ZawgyiDetector"
   ],
   "outputs": [],
   "execution_count": 1
  },
  {
   "metadata": {
    "ExecuteTime": {
     "end_time": "2025-04-12T06:08:15.004730Z",
     "start_time": "2025-04-12T06:08:14.996463Z"
    }
   },
   "cell_type": "code",
   "source": [
    "detector = ZawgyiDetector()\n",
    "converter = Transliterator.createInstance('Zawgyi-my')"
   ],
   "id": "cf03a338cb9eaba",
   "outputs": [],
   "execution_count": 2
  },
  {
   "metadata": {},
   "cell_type": "markdown",
   "source": "# Load the Original C4 Dataset",
   "id": "8e0f3d4c1bb3cd79"
  },
  {
   "metadata": {
    "ExecuteTime": {
     "end_time": "2025-04-12T06:09:04.557005Z",
     "start_time": "2025-04-12T06:08:15.066882Z"
    }
   },
   "cell_type": "code",
   "source": "dataset = load_dataset(\"allenai/c4\", \"my\")",
   "id": "2522cea8017389d6",
   "outputs": [
    {
     "data": {
      "text/plain": [
       "Resolving data files:   0%|          | 0/1024 [00:00<?, ?it/s]"
      ],
      "application/vnd.jupyter.widget-view+json": {
       "version_major": 2,
       "version_minor": 0,
       "model_id": "4c438a08a0394b10b4ae4ea97413ab14"
      }
     },
     "metadata": {},
     "output_type": "display_data"
    },
    {
     "data": {
      "text/plain": [
       "Resolving data files:   0%|          | 0/64 [00:00<?, ?it/s]"
      ],
      "application/vnd.jupyter.widget-view+json": {
       "version_major": 2,
       "version_minor": 0,
       "model_id": "d6366e1125e44ffc842eb60b7e832baf"
      }
     },
     "metadata": {},
     "output_type": "display_data"
    }
   ],
   "execution_count": 3
  },
  {
   "metadata": {
    "ExecuteTime": {
     "end_time": "2025-04-12T06:17:39.749554Z",
     "start_time": "2025-04-12T06:17:39.746542Z"
    }
   },
   "cell_type": "code",
   "source": "dataset",
   "id": "9ffae2f281fb1c85",
   "outputs": [
    {
     "data": {
      "text/plain": [
       "DatasetDict({\n",
       "    train: Dataset({\n",
       "        features: ['text', 'timestamp', 'url'],\n",
       "        num_rows: 813530\n",
       "    })\n",
       "    validation: Dataset({\n",
       "        features: ['text', 'timestamp', 'url'],\n",
       "        num_rows: 858\n",
       "    })\n",
       "})"
      ]
     },
     "execution_count": 9,
     "metadata": {},
     "output_type": "execute_result"
    }
   ],
   "execution_count": 9
  },
  {
   "metadata": {},
   "cell_type": "markdown",
   "source": "# Combine the Train and Validation Splits",
   "id": "8b087a5217bda59f"
  },
  {
   "metadata": {
    "ExecuteTime": {
     "end_time": "2025-04-12T06:09:04.576166Z",
     "start_time": "2025-04-12T06:09:04.564806Z"
    }
   },
   "cell_type": "code",
   "source": [
    "c4_my_dataset = concatenate_datasets([dataset['train'], dataset['validation']])\n",
    "print(f\"Combined dataset has {len(c4_my_dataset)} examples\")"
   ],
   "id": "b5acfd4ad7fb4710",
   "outputs": [
    {
     "name": "stdout",
     "output_type": "stream",
     "text": [
      "Combined dataset has 814388 examples\n"
     ]
    }
   ],
   "execution_count": 4
  },
  {
   "metadata": {
    "ExecuteTime": {
     "end_time": "2025-04-12T06:09:04.616428Z",
     "start_time": "2025-04-12T06:09:04.614190Z"
    }
   },
   "cell_type": "code",
   "source": "c4_my_dataset.column_names",
   "id": "747293a1568ea428",
   "outputs": [
    {
     "data": {
      "text/plain": [
       "['text', 'timestamp', 'url']"
      ]
     },
     "execution_count": 5,
     "metadata": {},
     "output_type": "execute_result"
    }
   ],
   "execution_count": 5
  },
  {
   "metadata": {},
   "cell_type": "markdown",
   "source": "# Example Convertion from Zawgyi to Unicode",
   "id": "89aa7b5c6f56b8ce"
  },
  {
   "metadata": {
    "ExecuteTime": {
     "end_time": "2025-04-12T06:09:04.667352Z",
     "start_time": "2025-04-12T06:09:04.660304Z"
    }
   },
   "cell_type": "code",
   "source": [
    "original_text = c4_my_dataset[0]['text']\n",
    "score = detector.get_zawgyi_probability(original_text)\n",
    "\n",
    "print(\"Original Text:\", original_text)\n",
    "\n",
    "if score > 0.5:\n",
    "    converted_text = converter.transliterate(original_text)\n",
    "    print()\n",
    "    print(\"Score:\", score)\n",
    "    print()\n",
    "    print(\"Converted Text:\", converted_text)"
   ],
   "id": "1731302609fb0a58",
   "outputs": [
    {
     "name": "stdout",
     "output_type": "stream",
     "text": [
      "Original Text: ၂၀၁၀ ခုႏွစ္က အီဖရန္ပီနာဖလိုရီဒါတစ္ေယာက္ ေဟာလိဝုဒ္အေက်ာ္အေမာ္ေတြတက္တဲ့ CNN Heroes ညစာစားပြဲကိုသြားတက္ေတာ့ ဖိလစ္ပိုင္က လူအေတာ္မ်ားမ်ား သူ႔ကိုမသိၾကေပ။ အဆိုပါႏွစ္၏ CNN သတင္းဌာနကေပးေသာ သူရဲေကာင္းဆုကို ရခဲ့ၿပီးေနာက္တြင္ေတာ့ ေလဆိပ္အထိ ျပည္သူရာေက်ာ္လာႀကိဳၾကသည္။ “ကိုယ့္ႏိုင္ငံလည္း ျပန္ေရာက္ေရာ ကၽြန္ေတာ္က ဆူပါစတားျဖစ္ေနပါေလေရာ”ဟု ၎က ေျပာၾကားသည္။ ပီနာဖလိုရီဒါသည္ လက္တြန္းလွည္းစာသင္ခန္းမ်ားကိုဖန္တီးကာ စာအုပ္မ်ား၊ သင္ေထာက္ကူမ်ားတင္ၿပီး လွည့္လည္သြားလာကူညီေပးခဲ့သျဖင့္ ထိုဆုကိုရရွိခဲ့ျခင္း ျဖစ္သည္။ ၁၉၉၇ ခုႏွစ္မွစတင္ကာ ပီနာဖလိုရီဒါႏွင့္ ေစတနာ့ဝန္ထမ္း ဆယ္ေက်ာ္သက္မ်ားစြာတို႔က အဆိုပါ လက္တြန္းလွည္းမ်ားျဖင့္ လွည့္လည္ကာ လမ္းေပၚကေလးမ်ားစြာကို စာေရး၊ စာဖတ္တတ္ေအာင္ လိုက္လံစာသင္ၾကားေပးခဲ့ေပသည္။\n",
      "“ဒီဆုရရွိလိုက္တာ အက်ိဳးရွိပါတယ္။ ကၽြန္ေတာ္နဲ႔ ကၽြန္ေတာ့္ေစတနာ့ဝန္ထမ္း လုပ္ေဖာ္ကိုင္ဖက္ေတြအတြက္ လုပ္ရက်ိဳးနပ္တယ္လို႔ ခံစားရေစပါတယ္”ဟု ယခုအခါ အသက္ ၃၇ ထဲ ေရာက္ေနၿပီျဖစ္ေသာ ပီနာဖလိုရီဒါကဆိုသည္။ ဖိလစ္ပိုင္အစိုးရကလည္း အရပ္သားမ်ားကိုေပးသည့္ အျမင့္ဆံုးဆုျဖစ္ေသာ လာကန္ဒူလာဆုကို ေပးအပ္ခဲ့သည္။ ထိုဆုက ျပည္သူမ်ားအတြက္ အသက္အိုးအိမ္ လူမႈဘဝ တိုးတက္ျမင့္မားေရး ေဆာင္႐ြက္ၾကသူမ်ားကို ရည္႐ြယ္ေပးအပ္ေသာဆုျဖစ္ပါသည္။ “ဆုကို ကၽြန္ေတာ္ကလက္ခံခဲ့ပါတယ္။ ဒါေပမဲ့ ဂုဏ္ျပဳမႈကိုေတာ့ လုပ္ေဖာ္ကိုင္ဖက္ေတြ၊ ဆရာသမားေတြနဲ႔ ကၽြန္ေတာ္တို႔ ေဆာင္႐ြက္ေပးေနတဲ့ ကေလးေတြနဲ႔ မွ်ေဝခံစားပါတယ္”ဟု ၎က ဆိုသည္။ သမၼတ၏ ၫႊန္ၾကားမႈျဖင့္ ပီနာဖလိုရီဒါ၏ လက္တြန္းလွည္း စာသင္ခန္းေလးမ်ားကို တစ္ႏိုင္ငံလံုးဖြင့္ႏိုင္ရန္ အစိုးရကလည္း ပါဝင္ကူညီေပေတာ့သည္။\n",
      "အစိုးရႏွင့္ ပူးေပါင္းခဲ့ၿပီးေနာက္ ပီနာဖလိုရီဒါ၏ အႀကံေပးမႈႏွင့္အတူ လက္တြန္းလွည္းစာသင္ခန္း အဖြဲ႔အစည္းျဖစ္ေသာ Dynamic Teen Company က အဆငါးဆယ္ခန္႔ ပိုႀကီးသြားခဲ့ၿပီး ဖိလစ္ပိုင္ႏိုင္ငံတစ္လႊားကို လႊမ္းၿခံဳသြားႏိုင္ခဲ့သည္။ အစိုးရသစ္ တက္လာေသာအခ်ိန္တြင္လည္း ေ႐ြ႕လ်ားစာသင္ခန္းစနစ္ကို ထပ္ခ်ဲ႕ရန္ ေဆာင္႐ြက္ေနသည္ဟု ပီနာဖလိုရီဒါက ေျပာျပသည္။ “လက္တြန္းလွည္း စာသင္ခန္းစနစ္ကို ျပည္နယ္အေတာ္မ်ားမ်ားမွာ တိုးခ်ဲ႕မွာ ျဖစ္ပါတယ္။ တစ္ကမၻာလံုးက စာေတြလည္း လက္ခံရရွိပါတယ္”ဟု ပီနာဖလိုရီဒါက ေျပာၾကားသည္။\n",
      "CNN သူရဲေကာင္းဆုမွ ရရွိေသာ ေဒၚလာတစ္သိန္းႏွစ္ေသာင္းငါးေထာင္၏ အစိတ္အပိုင္းမ်ားကို ကာဗိုက္ၿမိဳ႕တြင္ DTC ပညာေရးစင္တာ၏ လက္တြန္းလွည္းမ်ား ထုတ္လုပ္တပ္ဆင္ရာအျဖစ္ ျပင္ဆင္ထားသည္။ ကြန္ပ်ဴတာသင္ခန္း၊ စာၾကည့္တိုက္၊ က်န္းမာေရးေဆးခန္း၊ မီးဖိုေခ်ာင္၊ တြန္းလွည္းမ်ား သိမ္းဆည္းရာဂိုေဒါင္တို႔အျဖစ္ တည္ေဆာက္ထားပါသည္။ “ကၽြန္ေတာ္တို႔က ကေလးငယ္ေတြ ေလ့လာသင္ယူေရးစင္တာအျဖစ္ေခၚဆိုၿပီး ကေလးေတြဟာ သူတို႔အခြင့္အေရးကို ျပည့္ဝစြာရရွိႏိုင္ၿပီး ဘဝျမင့္မားေရးနည္းနာေတြကို သင္ယူႏိုင္ပါတယ္”ဟု ပီနာဖလိုရီဒါက ေျပာၾကားခဲ့သည္။ မၾကာခင္မွာပင္ အဆိုပါစင္တာတည္ေဆာက္မႈၿပီးသြားခဲ့ၿပီး ရာေပါင္းမ်ားစြာေသာ ကေလးမ်ားအတြက္ ဝန္ေဆာင္မႈမ်ား ေပးႏိုင္ခဲ့ေပသည္။\n",
      "တကယ္ေတာ့ ပီနာဖလိုရီဒါကိုယ္တိုင္ ထိုသို႔ လမ္းေပ်ာ္ကေလးဘဝက လာခဲ့ရျခင္းျဖစ္သည္။ အမိႈက္ပံုနားက တဲစုနားမွာ ေနထိုင္ခဲ့ရျခင္းျဖစ္သည္။ လမ္းေပ်ာ္ကေလးမ်ားမွသည္ ႀကီးလာေသာ္ ဒုစ႐ိုက္ဂိုဏ္းမ်ားထဲ မေရာက္သြားေစရန္အတြက္ သူကိုယ္တိုင္ လူငယ္ေစတနာ့ဝန္ထမ္းမ်ားကို စုစည္းခဲ့ၿပီး လက္တြန္းလွည္းပညာေရးအစီအစဥ္ေလးကို စတင္ခဲ့ျခင္းျဖစ္သည္။ “ကၽြန္ေတာ့္ကို တျခားသူေတြက ကူညီၾကတဲ့အတိုင္း ကၽြန္ေတာ္က ျပန္ၿပီးကူညီေပးတဲ့ သေဘာပဲျဖစ္ပါတယ္”ဟု ၎က ေျပာၾကားခဲ့သည္။ ဖိလစ္ပိုင္တြင္ အျခားသူမ်ားကို ကူညီေပးေနၾကသူမ်ားအေၾကာင္းကိုတင္ဆက္သည့္ “I, Myself” ႐ုပ္သံအစီအစဥ္တစ္ခုတြင္လည္း ပီနာဖလိုရီဒါ ပါဝင္တင္ဆက္ေပးေနသည္။\n",
      "လွည္းကေလးတြန္းၿပီး လမ္းေဘးကေလးမ်ားကို စာလိုက္သင္ေပးေနျခင္းမွသည္ ႏိုင္ငံေတာ္အဆင့္ လမ္းေပ်ာ္ကေလးသင္ ပညာေရးအဖြဲ႔အစည္းျဖစ္ေအာင္ ပီနာဖလိုရီဒါတစ္ေယာက္ လုပ္ျပႏိုင္ခဲ့သည္။ တစ္ဆင့္ခ်င္းေဆာင္႐ြက္ျပခဲ့ျခင္းျဖစ္သည္။ အဆင့္တိုင္းတြင္ ဇြဲ၊ လံု႔လ၊ ဉာဏ္ရည္၊ လုပ္ရည္ကိုင္ရည္ႏွင့္ အနစ္နာခံမႈမ်ားပါဝင္ပါသည္။ ယခုအခါ လက္တြန္းလွည္း စာသင္ခန္းေလးမ်ားသည္ ဆင္းရဲသား ရပ္ကြက္မ်ားအတြင္းသို႔ လွည့္ပတ္ဝင္ေရာက္ရင္း ေက်ာင္းမေရာက္သည့္ ကေလးမ်ားကို ပညာသင္ေပးလ်က္ရွိသည္။\n",
      "\n",
      "Score: 1.0\n",
      "\n",
      "Converted Text: ၂၀၁၀ ခုနှစ်က အီဖရန်ပီနာဖလိုရီဒါတစ်ယောက် ဟောလိဝုဒ်အကျော်အမော်တွေတက်တဲ့ CNN Heroes ညစာစားပွဲကိုသွားတက်တော့ ဖိလစ်ပိုင်က လူအတော်များများ သူ့ကိုမသိကြပေ။ အဆိုပါနှစ်၏ CNN သတင်းဌာနကပေးသော သူရဲကောင်းဆုကို ရခဲ့ပြီးနောက်တွင်တော့ လေဆိပ်အထိ ပြည်သူရာကျော်လာကြိုကြသည်။ “ကိုယ့်နိုင်ငံလည်း ပြန်ရောက်ရော ကျွန်တော်က ဆူပါစတားဖြစ်နေပါလေရော”ဟု ၎င်းက ပြောကြားသည်။ ပီနာဖလိုရီဒါသည် လက်တွန်းလှည်းစာသင်ခန်းများကိုဖန်တီးကာ စာအုပ်များ၊ သင်ထောက်ကူများတင်ပြီး လှည့်လည်သွားလာကူညီပေးခဲ့သဖြင့် ထိုဆုကိုရရှိခဲ့ခြင်း ဖြစ်သည်။ ၁၉၉၇ ခုနှစ်မှစတင်ကာ ပီနာဖလိုရီဒါနှင့် စေတနာ့ဝန်ထမ်း ဆယ်ကျော်သက်များစွာတို့က အဆိုပါ လက်တွန်းလှည်းများဖြင့် လှည့်လည်ကာ လမ်းပေါ်ကလေးများစွာကို စာရေး၊ စာဖတ်တတ်အောင် လိုက်လံစာသင်ကြားပေးခဲ့ပေသည်။\n",
      "“ဒီဆုရရှိလိုက်တာ အကျိုးရှိပါတယ်။ ကျွန်တော်နဲ့ ကျွန်တော့်စေတနာ့ဝန်ထမ်း လုပ်ဖော်ကိုင်ဖက်တွေအတွက် လုပ်ရကျိုးနပ်တယ်လို့ ခံစားရစေပါတယ်”ဟု ယခုအခါ အသက် ၃၇ ထဲ ရောက်နေပြီဖြစ်သော ပီနာဖလိုရီဒါကဆိုသည်။ ဖိလစ်ပိုင်အစိုးရကလည်း အရပ်သားများကိုပေးသည့် အမြင့်ဆုံးဆုဖြစ်သော လာကန်ဒူလာဆုကို ပေးအပ်ခဲ့သည်။ ထိုဆုက ပြည်သူများအတွက် အသက်အိုးအိမ် လူမှုဘဝ တိုးတက်မြင့်မားရေး ဆောင်ရွက်ကြသူများကို ရည်ရွယ်ပေးအပ်သောဆုဖြစ်ပါသည်။ “ဆုကို ကျွန်တော်ကလက်ခံခဲ့ပါတယ်။ ဒါပေမဲ့ ဂုဏ်ပြုမှုကိုတော့ လုပ်ဖော်ကိုင်ဖက်တွေ၊ ဆရာသမားတွေနဲ့ ကျွန်တော်တို့ ဆောင်ရွက်ပေးနေတဲ့ ကလေးတွေနဲ့ မျှဝေခံစားပါတယ်”ဟု ၎င်းက ဆိုသည်။ သမ္မတ၏ ညွှန်ကြားမှုဖြင့် ပီနာဖလိုရီဒါ၏ လက်တွန်းလှည်း စာသင်ခန်းလေးများကို တစ်နိုင်ငံလုံးဖွင့်နိုင်ရန် အစိုးရကလည်း ပါဝင်ကူညီပေတော့သည်။\n",
      "အစိုးရနှင့် ပူးပေါင်းခဲ့ပြီးနောက် ပီနာဖလိုရီဒါ၏ အကြံပေးမှုနှင့်အတူ လက်တွန်းလှည်းစာသင်ခန်း အဖွဲ့အစည်းဖြစ်သော Dynamic Teen Company က အဆငါးဆယ်ခန့် ပိုကြီးသွားခဲ့ပြီး ဖိလစ်ပိုင်နိုင်ငံတစ်လွှားကို လွှမ်းခြုံသွားနိုင်ခဲ့သည်။ အစိုးရသစ် တက်လာသောအချိန်တွင်လည်း ရွေ့လျားစာသင်ခန်းစနစ်ကို ထပ်ချဲ့ရန် ဆောင်ရွက်နေသည်ဟု ပီနာဖလိုရီဒါက ပြောပြသည်။ “လက်တွန်းလှည်း စာသင်ခန်းစနစ်ကို ပြည်နယ်အတော်များများမှာ တိုးချဲ့မှာ ဖြစ်ပါတယ်။ တစ်ကမ္ဘာလုံးက စာတွေလည်း လက်ခံရရှိပါတယ်”ဟု ပီနာဖလိုရီဒါက ပြောကြားသည်။\n",
      "CNN သူရဲကောင်းဆုမှ ရရှိသော ဒေါ်လာတစ်သိန်းနှစ်သောင်းငါးထောင်၏ အစိတ်အပိုင်းများကို ကာဗိုက်မြို့တွင် DTC ပညာရေးစင်တာ၏ လက်တွန်းလှည်းများ ထုတ်လုပ်တပ်ဆင်ရာအဖြစ် ပြင်ဆင်ထားသည်။ ကွန်ပျူတာသင်ခန်း၊ စာကြည့်တိုက်၊ ကျန်းမာရေးဆေးခန်း၊ မီးဖိုချောင်၊ တွန်းလှည်းများ သိမ်းဆည်းရာဂိုဒေါင်တို့အဖြစ် တည်ဆောက်ထားပါသည်။ “ကျွန်တော်တို့က ကလေးငယ်တွေ လေ့လာသင်ယူရေးစင်တာအဖြစ်ခေါ်ဆိုပြီး ကလေးတွေဟာ သူတို့အခွင့်အရေးကို ပြည့်ဝစွာရရှိနိုင်ပြီး ဘဝမြင့်မားရေးနည်းနာတွေကို သင်ယူနိုင်ပါတယ်”ဟု ပီနာဖလိုရီဒါက ပြောကြားခဲ့သည်။ မကြာခင်မှာပင် အဆိုပါစင်တာတည်ဆောက်မှုပြီးသွားခဲ့ပြီး ရာပေါင်းများစွာသော ကလေးများအတွက် ဝန်ဆောင်မှုများ ပေးနိုင်ခဲ့ပေသည်။\n",
      "တကယ်တော့ ပီနာဖလိုရီဒါကိုယ်တိုင် ထိုသို့ လမ်းပျော်ကလေးဘဝက လာခဲ့ရခြင်းဖြစ်သည်။ အမှိုက်ပုံနားက တဲစုနားမှာ နေထိုင်ခဲ့ရခြင်းဖြစ်သည်။ လမ်းပျော်ကလေးများမှသည် ကြီးလာသော် ဒုစရိုက်ဂိုဏ်းများထဲ မရောက်သွားစေရန်အတွက် သူကိုယ်တိုင် လူငယ်စေတနာ့ဝန်ထမ်းများကို စုစည်းခဲ့ပြီး လက်တွန်းလှည်းပညာရေးအစီအစဉ်လေးကို စတင်ခဲ့ခြင်းဖြစ်သည်။ “ကျွန်တော့်ကို တခြားသူတွေက ကူညီကြတဲ့အတိုင်း ကျွန်တော်က ပြန်ပြီးကူညီပေးတဲ့ သဘောပဲဖြစ်ပါတယ်”ဟု ၎င်းက ပြောကြားခဲ့သည်။ ဖိလစ်ပိုင်တွင် အခြားသူများကို ကူညီပေးနေကြသူများအကြောင်းကိုတင်ဆက်သည့် “I, Myself” ရုပ်သံအစီအစဉ်တစ်ခုတွင်လည်း ပီနာဖလိုရီဒါ ပါဝင်တင်ဆက်ပေးနေသည်။\n",
      "လှည်းကလေးတွန်းပြီး လမ်းဘေးကလေးများကို စာလိုက်သင်ပေးနေခြင်းမှသည် နိုင်ငံတော်အဆင့် လမ်းပျော်ကလေးသင် ပညာရေးအဖွဲ့အစည်းဖြစ်အောင် ပီနာဖလိုရီဒါတစ်ယောက် လုပ်ပြနိုင်ခဲ့သည်။ တစ်ဆင့်ချင်းဆောင်ရွက်ပြခဲ့ခြင်းဖြစ်သည်။ အဆင့်တိုင်းတွင် ဇွဲ၊ လုံ့လ၊ ဉာဏ်ရည်၊ လုပ်ရည်ကိုင်ရည်နှင့် အနစ်နာခံမှုများပါဝင်ပါသည်။ ယခုအခါ လက်တွန်းလှည်း စာသင်ခန်းလေးများသည် ဆင်းရဲသား ရပ်ကွက်များအတွင်းသို့ လှည့်ပတ်ဝင်ရောက်ရင်း ကျောင်းမရောက်သည့် ကလေးများကို ပညာသင်ပေးလျက်ရှိသည်။\n"
     ]
    }
   ],
   "execution_count": 6
  },
  {
   "metadata": {},
   "cell_type": "markdown",
   "source": "# Convert the Whole Dataset from Zawgyi to Unicode",
   "id": "2e0d8de7250b1cf"
  },
  {
   "metadata": {
    "ExecuteTime": {
     "end_time": "2025-04-12T06:09:04.714157Z",
     "start_time": "2025-04-12T06:09:04.711845Z"
    }
   },
   "cell_type": "code",
   "source": [
    "def zawgyi_to_unicode_converter(examples):\n",
    "    texts = examples['text']\n",
    "    converted_texts = []\n",
    "\n",
    "    for text in texts:\n",
    "        score = detector.get_zawgyi_probability(text)\n",
    "        if score > 0.5:\n",
    "            text = converter.transliterate(text)\n",
    "\n",
    "        converted_texts.append(text)\n",
    "\n",
    "    examples['text'] = converted_texts\n",
    "    return examples"
   ],
   "id": "c829c9c327c11127",
   "outputs": [],
   "execution_count": 7
  },
  {
   "metadata": {
    "ExecuteTime": {
     "end_time": "2025-04-12T06:17:39.625746Z",
     "start_time": "2025-04-12T06:09:04.758336Z"
    }
   },
   "cell_type": "code",
   "source": [
    "c4_my_dataset_unicode = c4_my_dataset.map(\n",
    "    zawgyi_to_unicode_converter,\n",
    "    batched=True,\n",
    "    batch_size=100,\n",
    "    num_proc=10\n",
    ")"
   ],
   "id": "84e14ea46a764671",
   "outputs": [
    {
     "name": "stderr",
     "output_type": "stream",
     "text": [
      "Parameter 'function'=<function zawgyi_to_unicode_converter at 0x71a4886c53a0> of the transform datasets.arrow_dataset.Dataset._map_single couldn't be hashed properly, a random hash was used instead. Make sure your transforms and parameters are serializable with pickle or dill for the dataset fingerprinting and caching to work. If you reuse this transform, the caching mechanism will consider it to be different from the previous calls and recompute everything. This warning is only showed once. Subsequent hashing failures won't be showed.\n"
     ]
    },
    {
     "data": {
      "text/plain": [
       "Map (num_proc=10):   0%|          | 0/814388 [00:00<?, ? examples/s]"
      ],
      "application/vnd.jupyter.widget-view+json": {
       "version_major": 2,
       "version_minor": 0,
       "model_id": "ec4f7fc835aa48448deaa339da30dcfe"
      }
     },
     "metadata": {},
     "output_type": "display_data"
    }
   ],
   "execution_count": 8
  },
  {
   "metadata": {},
   "cell_type": "code",
   "outputs": [],
   "execution_count": null,
   "source": "",
   "id": "b2c45d425a40962e"
  },
  {
   "metadata": {},
   "cell_type": "markdown",
   "source": "# Upload to Huggingface",
   "id": "ab3301917dab5c4c"
  },
  {
   "metadata": {
    "ExecuteTime": {
     "end_time": "2025-04-12T06:21:52.526088Z",
     "start_time": "2025-04-12T06:21:52.389977Z"
    }
   },
   "cell_type": "code",
   "source": "c4_my_dataset_unicode = c4_my_dataset_unicode.train_test_split(test_size=0.1, seed=42)",
   "id": "15b7cc9c36147062",
   "outputs": [],
   "execution_count": 11
  },
  {
   "metadata": {
    "ExecuteTime": {
     "end_time": "2025-04-12T06:25:26.263271Z",
     "start_time": "2025-04-12T06:22:11.310252Z"
    }
   },
   "cell_type": "code",
   "source": "c4_my_dataset_unicode.push_to_hub(\"chuuhtetnaing/myanmar-c4-dataset\")",
   "id": "44a7aca67c337681",
   "outputs": [
    {
     "data": {
      "text/plain": [
       "Uploading the dataset shards:   0%|          | 0/15 [00:00<?, ?it/s]"
      ],
      "application/vnd.jupyter.widget-view+json": {
       "version_major": 2,
       "version_minor": 0,
       "model_id": "49615b589b6941738b807709b6d427bf"
      }
     },
     "metadata": {},
     "output_type": "display_data"
    },
    {
     "data": {
      "text/plain": [
       "Creating parquet from Arrow format:   0%|          | 0/49 [00:00<?, ?ba/s]"
      ],
      "application/vnd.jupyter.widget-view+json": {
       "version_major": 2,
       "version_minor": 0,
       "model_id": "6b65d307a8ae4231be330d869d948897"
      }
     },
     "metadata": {},
     "output_type": "display_data"
    },
    {
     "data": {
      "text/plain": [
       "Creating parquet from Arrow format:   0%|          | 0/49 [00:00<?, ?ba/s]"
      ],
      "application/vnd.jupyter.widget-view+json": {
       "version_major": 2,
       "version_minor": 0,
       "model_id": "5f0d5c8a395c46c39f57950664d326e6"
      }
     },
     "metadata": {},
     "output_type": "display_data"
    },
    {
     "data": {
      "text/plain": [
       "Creating parquet from Arrow format:   0%|          | 0/49 [00:00<?, ?ba/s]"
      ],
      "application/vnd.jupyter.widget-view+json": {
       "version_major": 2,
       "version_minor": 0,
       "model_id": "fbe2c10d85074485be6c0f1dfc354317"
      }
     },
     "metadata": {},
     "output_type": "display_data"
    },
    {
     "data": {
      "text/plain": [
       "Creating parquet from Arrow format:   0%|          | 0/49 [00:00<?, ?ba/s]"
      ],
      "application/vnd.jupyter.widget-view+json": {
       "version_major": 2,
       "version_minor": 0,
       "model_id": "3579c7915fd449d79af2ac3c5cf6dbf2"
      }
     },
     "metadata": {},
     "output_type": "display_data"
    },
    {
     "data": {
      "text/plain": [
       "Creating parquet from Arrow format:   0%|          | 0/49 [00:00<?, ?ba/s]"
      ],
      "application/vnd.jupyter.widget-view+json": {
       "version_major": 2,
       "version_minor": 0,
       "model_id": "a8a9bf900f024ab39564e153d1d5e1e2"
      }
     },
     "metadata": {},
     "output_type": "display_data"
    },
    {
     "data": {
      "text/plain": [
       "Creating parquet from Arrow format:   0%|          | 0/49 [00:00<?, ?ba/s]"
      ],
      "application/vnd.jupyter.widget-view+json": {
       "version_major": 2,
       "version_minor": 0,
       "model_id": "ad0ea2fc4881443c9b8e057cd51e1a5b"
      }
     },
     "metadata": {},
     "output_type": "display_data"
    },
    {
     "data": {
      "text/plain": [
       "Creating parquet from Arrow format:   0%|          | 0/49 [00:00<?, ?ba/s]"
      ],
      "application/vnd.jupyter.widget-view+json": {
       "version_major": 2,
       "version_minor": 0,
       "model_id": "479a919eddbe439d8315f7e193cccc46"
      }
     },
     "metadata": {},
     "output_type": "display_data"
    },
    {
     "data": {
      "text/plain": [
       "Creating parquet from Arrow format:   0%|          | 0/49 [00:00<?, ?ba/s]"
      ],
      "application/vnd.jupyter.widget-view+json": {
       "version_major": 2,
       "version_minor": 0,
       "model_id": "1b997e903b164078b70c99111883e760"
      }
     },
     "metadata": {},
     "output_type": "display_data"
    },
    {
     "data": {
      "text/plain": [
       "Creating parquet from Arrow format:   0%|          | 0/49 [00:00<?, ?ba/s]"
      ],
      "application/vnd.jupyter.widget-view+json": {
       "version_major": 2,
       "version_minor": 0,
       "model_id": "8de3a3e1e6dd4e9a8af9af28fa1bb244"
      }
     },
     "metadata": {},
     "output_type": "display_data"
    },
    {
     "data": {
      "text/plain": [
       "Creating parquet from Arrow format:   0%|          | 0/49 [00:00<?, ?ba/s]"
      ],
      "application/vnd.jupyter.widget-view+json": {
       "version_major": 2,
       "version_minor": 0,
       "model_id": "c92c9a1ab08644ceb2467c438b5e19e4"
      }
     },
     "metadata": {},
     "output_type": "display_data"
    },
    {
     "data": {
      "text/plain": [
       "Creating parquet from Arrow format:   0%|          | 0/49 [00:00<?, ?ba/s]"
      ],
      "application/vnd.jupyter.widget-view+json": {
       "version_major": 2,
       "version_minor": 0,
       "model_id": "4f38d3408cc14eba82f88cb39be80944"
      }
     },
     "metadata": {},
     "output_type": "display_data"
    },
    {
     "data": {
      "text/plain": [
       "Creating parquet from Arrow format:   0%|          | 0/49 [00:00<?, ?ba/s]"
      ],
      "application/vnd.jupyter.widget-view+json": {
       "version_major": 2,
       "version_minor": 0,
       "model_id": "7536c92da00243a1b86f37ea0d49b655"
      }
     },
     "metadata": {},
     "output_type": "display_data"
    },
    {
     "data": {
      "text/plain": [
       "Creating parquet from Arrow format:   0%|          | 0/49 [00:00<?, ?ba/s]"
      ],
      "application/vnd.jupyter.widget-view+json": {
       "version_major": 2,
       "version_minor": 0,
       "model_id": "f9295e6edf3245a484cad28506a2a53c"
      }
     },
     "metadata": {},
     "output_type": "display_data"
    },
    {
     "data": {
      "text/plain": [
       "Creating parquet from Arrow format:   0%|          | 0/49 [00:00<?, ?ba/s]"
      ],
      "application/vnd.jupyter.widget-view+json": {
       "version_major": 2,
       "version_minor": 0,
       "model_id": "c8b23f96f7bd417f8e85baefc938c045"
      }
     },
     "metadata": {},
     "output_type": "display_data"
    },
    {
     "data": {
      "text/plain": [
       "Creating parquet from Arrow format:   0%|          | 0/49 [00:00<?, ?ba/s]"
      ],
      "application/vnd.jupyter.widget-view+json": {
       "version_major": 2,
       "version_minor": 0,
       "model_id": "06fb7fa09d6f4dffbfc07dae92a21058"
      }
     },
     "metadata": {},
     "output_type": "display_data"
    },
    {
     "data": {
      "text/plain": [
       "Uploading the dataset shards:   0%|          | 0/2 [00:00<?, ?it/s]"
      ],
      "application/vnd.jupyter.widget-view+json": {
       "version_major": 2,
       "version_minor": 0,
       "model_id": "5c84bd4a45144c5fada92f9e5de6cb6f"
      }
     },
     "metadata": {},
     "output_type": "display_data"
    },
    {
     "data": {
      "text/plain": [
       "Creating parquet from Arrow format:   0%|          | 0/41 [00:00<?, ?ba/s]"
      ],
      "application/vnd.jupyter.widget-view+json": {
       "version_major": 2,
       "version_minor": 0,
       "model_id": "1f943cf773354c8caf197d7cabb0cf08"
      }
     },
     "metadata": {},
     "output_type": "display_data"
    },
    {
     "data": {
      "text/plain": [
       "Creating parquet from Arrow format:   0%|          | 0/41 [00:00<?, ?ba/s]"
      ],
      "application/vnd.jupyter.widget-view+json": {
       "version_major": 2,
       "version_minor": 0,
       "model_id": "caa257f4658944baa69c53e619ed739a"
      }
     },
     "metadata": {},
     "output_type": "display_data"
    },
    {
     "data": {
      "text/plain": [
       "CommitInfo(commit_url='https://huggingface.co/datasets/chuuhtetnaing/myanmar-c4-dataset/commit/2cdcb1a3e241ea70aff6308e0cc23ab6d0e84716', commit_message='Upload dataset', commit_description='', oid='2cdcb1a3e241ea70aff6308e0cc23ab6d0e84716', pr_url=None, repo_url=RepoUrl('https://huggingface.co/datasets/chuuhtetnaing/myanmar-c4-dataset', endpoint='https://huggingface.co', repo_type='dataset', repo_id='chuuhtetnaing/myanmar-c4-dataset'), pr_revision=None, pr_num=None)"
      ]
     },
     "execution_count": 13,
     "metadata": {},
     "output_type": "execute_result"
    }
   ],
   "execution_count": 13
  },
  {
   "metadata": {},
   "cell_type": "code",
   "outputs": [],
   "execution_count": null,
   "source": "",
   "id": "41976efb3efcad94"
  }
 ],
 "metadata": {
  "kernelspec": {
   "display_name": "Python 3",
   "language": "python",
   "name": "python3"
  },
  "language_info": {
   "codemirror_mode": {
    "name": "ipython",
    "version": 2
   },
   "file_extension": ".py",
   "mimetype": "text/x-python",
   "name": "python",
   "nbconvert_exporter": "python",
   "pygments_lexer": "ipython2",
   "version": "2.7.6"
  }
 },
 "nbformat": 4,
 "nbformat_minor": 5
}
